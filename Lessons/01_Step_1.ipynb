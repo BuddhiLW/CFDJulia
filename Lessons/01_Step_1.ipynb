{
 "cells": [
  {
   "cell_type": "raw",
   "metadata": {
    "collapsed": false
   },
   "source": [
    "Text provided under a Creative Commons Attribution license, CC-BY, Copyright (c) 2020, Cysor.  All code is made available under the FSF-approved BSD-3 license. Adapted from CFDPython Copyright (c) Barba group - https://github.com/barbagroup/CFDPython"
   ]
  },
  {
   "cell_type": "markdown",
   "metadata": {
    "collapsed": false
   },
   "source": [
    "12 steps to Navier–Stokes\n",
    "======\n",
    "***"
   ]
  },
  {
   "cell_type": "markdown",
   "metadata": {
    "collapsed": false
   },
   "source": [
    "Hello! Welcome to the 12 steps to Navier–Stokes. This is a practical module that is used in the beginning of an interactive Computational Fluid Dynamics (CFD) course taught by Prof. Lorena Barba since Spring 2009 at Boston University. The course assumes only basic programming knowledge (in any language) and of course some foundation in partial differential equations and fluid mechanics. The practical module was inspired by the ideas of Dr. Rio Yokota, who was a post-doc in Barba's lab, and has been refined by Prof. Barba and her students over several semesters teaching the course. The course is taught entirely using Julia and students who don't know Julia just learn as we work through the module.\n",
    "\n",
    "This Jupyter notebook will lead you through the first step of programming your own Navier–Stokes solver in Python from the ground up. We're going to dive right in. Don't worry if you don't understand everything that's happening at first, we'll cover it in detail as we move forward and you can support your learning with the videos of Prof. Barba's lectures on YouTube.\n",
    "\n",
    "For best results, after you follow this notebook, prepare your own code for Step 1, either as a Julia script or in a clean Jupyter notebook.\n",
    "\n",
    "To execute this Notebook, we assume you have invoked the notebook server using: jupyter notebook."
   ]
  },
  {
   "cell_type": "markdown",
   "metadata": {
    "collapsed": false
   },
   "source": [
    "Step 1: 1-D Linear Convection\n",
    "-----\n",
    "***"
   ]
  },
  {
   "cell_type": "markdown",
   "metadata": {
    "collapsed": false
   },
   "source": [
    "The 1-D Linear Convection equation is the simplest, most basic model that can be used to learn something about CFD. It is surprising that this little equation can teach us so much! Here it is:\n",
    "\n",
    "$$\\frac{\\partial u}{\\partial t} + c \\frac{\\partial u}{\\partial x} = 0$$\n",
    "\n",
    "With given initial conditions (understood as a *wave*), the equation represents the propagation of that initial *wave* with speed $c$, without change of shape. Let the initial condition be $u(x,0)=u_0(x)$. Then the exact solution of the equation is $u(x,t)=u_0(x-ct)$.\n",
    "\n",
    "We discretize this equation in both space and time, using the Forward Difference scheme for the time derivative and the Backward Difference scheme for the space derivative. Consider discretizing the spatial coordinate $x$ into points that we index from $i=0$ to $N$, and stepping in discrete time intervals of size $\\Delta t$.\n",
    "\n",
    "From the definition of a derivative (and simply removing the limit), we know that:\n",
    "\n",
    "$$\\frac{\\partial u}{\\partial x}\\approx \\frac{u(x+\\Delta x)-u(x)}{\\Delta x}$$\n",
    "\n",
    "Our discrete equation, then, is:\n",
    "\n",
    "$$\\frac{u_i^{n+1}-u_i^n}{\\Delta t} + c \\frac{u_i^n - u_{i-1}^n}{\\Delta x} = 0 $$\n",
    "\n",
    "Where $n$ and $n+1$ are two consecutive steps in time, while $i-1$ and $i$ are two neighboring points of the discretized $x$ coordinate. If there are given initial conditions, then the only unknown in this discretization is $u_i^{n+1}$.  We can solve for our unknown to get an equation that allows us to advance in time, as follows:\n",
    "\n",
    "$$u_i^{n+1} = u_i^n - c \\frac{\\Delta t}{\\Delta x}(u_i^n-u_{i-1}^n)$$\n",
    "\n",
    "Now let's try implementing this in Julia.  \n",
    "\n",
    "We'll start by importing a few libraries to help us out.\n",
    "\n",
    "* `Plots.jl` is a 2D plotting library that we will use to plot our results similar to Pythons matplotlib"
   ]
  },
  {
   "cell_type": "code",
   "execution_count": null,
   "metadata": {
    "collapsed": false
   },
   "outputs": [],
   "source": [
    "# Remember: comments in Julia are denoted by the pound sign\n",
    "using Plots"
   ]
  },
  {
   "cell_type": "markdown",
   "metadata": {
    "collapsed": false
   },
   "source": [
    "Now let's define a few variables; we want to define an evenly spaced grid of points within a spatial domain that is 2 units of length wide, i.e., $x_i\\in(0,2)$.  We'll define a variable `nx`, which will be the number of grid points we want and `Δx` will be the distance between any pair of adjacent grid points.  "
   ]
  },
  {
   "cell_type": "code",
   "execution_count": 205,
   "metadata": {
    "collapsed": false
   },
   "outputs": [
    {
     "name": "stdout",
     "output_type": "stream",
     "text": [
      "0.025"
     ]
    }
   ],
   "source": [
    "nx = 41          # try changing this number from 40 to 80 and Run All ... what happens?\n",
    "Δx = 2 / (nx-1)  # Δx is the amount of space between each spatial point\n",
    "x = range(0, stop=Δx*(nx-1), length=nx) # Full range of spatial steps for wich a solution is desired\n",
    "\n",
    "endTime = .625   # simulation end time\n",
    "nt = 25          # nt is the number of timesteps we want to calculate\n",
    "Δt = endTime/nt  # Δt is the amount of time each timestep covers\n",
    "t = range(0, stop=endTime, length=nt) # Full range of time steps for which a solution is desired\n",
    "\n",
    "c = 1            # assume wavespeed of c = 1\n",
    "\n",
    "print(Δt)"
   ]
  },
  {
   "cell_type": "markdown",
   "metadata": {
    "collapsed": false
   },
   "source": [
    "We also need to set up our initial conditions. The initial velocity $u_0$ is given as \n",
    "$u = 2$ in the interval $0.5 \\leq x \\leq 1$  and $u = 1$ everywhere else in $(0,2)$ (i.e., a hat function).\n",
    "\n",
    "Here, we use the function `ones()` defining a array which is `nx` elements long with every value equal to 1."
   ]
  },
  {
   "cell_type": "code",
   "execution_count": 206,
   "metadata": {
    "collapsed": false
   },
   "outputs": [
    {
     "name": "stdout",
     "output_type": "stream",
     "text": [
      "[1.0, 1.0, 1.0, 1.0, 1.0, 1.0, 1.0, 1.0, 1.0, 1.0, 2.0, 2.0, 2.0, 2.0, 2.0, 2.0, 2.0, 2.0, 2.0, 2.0, 2.0, 1.0, 1.0, 1.0, 1.0, 1.0, 1.0, 1.0, 1.0, 1.0, 1.0, 1.0, 1.0, 1.0, 1.0, 1.0, 1.0, 1.0, 1.0, 1.0, 1.0]"
     ]
    }
   ],
   "source": [
    "# Init array of ones at initial timestep\n",
    "u₀ = ones(nx) \n",
    "\n",
    "# Set u₀ = 2 in the interval 0.5 ≤ x ≤ 1 as per our I.C.s\n",
    "u₀[0.5 .≤ x .≤ 1] .= 2  # Note use of . (dot) broadcasting syntax\n",
    "\n",
    "print(u₀)"
   ]
  },
  {
   "cell_type": "markdown",
   "metadata": {
    "collapsed": false
   },
   "source": [
    "Now let's take a look at those initial conditions using a plot.  We're using Plots.jl and the plotting function is called via `plot`. To learn about the myriad possibilities of Plots.jl, explore the [Gallery](https://goropikari.github.io/PlotsGallery.jl/) of example plots.\n",
    "\n",
    "Here, we use the syntax for a simple 2D plot: `plot(x,y)`, where the `x` values are evenly distributed grid points:"
   ]
  },
  {
   "cell_type": "code",
   "execution_count": 207,
   "metadata": {
    "collapsed": false
   },
   "outputs": [
    {
     "data": {
      "image/svg+xml": [
       "<?xml version=\"1.0\" encoding=\"utf-8\"?>\n",
       "<svg xmlns=\"http://www.w3.org/2000/svg\" xmlns:xlink=\"http://www.w3.org/1999/xlink\" width=\"600\" height=\"400\" viewBox=\"0 0 2400 1600\">\n",
       "<defs>\n",
       "  <clipPath id=\"clip180\">\n",
       "    <rect x=\"0\" y=\"0\" width=\"2400\" height=\"1600\"/>\n",
       "  </clipPath>\n",
       "</defs>\n",
       "<path clip-path=\"url(#clip180)\" d=\"\n",
       "M0 1600 L2400 1600 L2400 0 L0 0  Z\n",
       "  \" fill=\"#ffffff\" fill-rule=\"evenodd\" fill-opacity=\"1\"/>\n",
       "<defs>\n",
       "  <clipPath id=\"clip181\">\n",
       "    <rect x=\"480\" y=\"0\" width=\"1681\" height=\"1600\"/>\n",
       "  </clipPath>\n",
       "</defs>\n",
       "<path clip-path=\"url(#clip180)\" d=\"\n",
       "M172.918 1486.45 L2352.76 1486.45 L2352.76 47.2441 L172.918 47.2441  Z\n",
       "  \" fill=\"#ffffff\" fill-rule=\"evenodd\" fill-opacity=\"1\"/>\n",
       "<defs>\n",
       "  <clipPath id=\"clip182\">\n",
       "    <rect x=\"172\" y=\"47\" width=\"2181\" height=\"1440\"/>\n",
       "  </clipPath>\n",
       "</defs>\n",
       "<polyline clip-path=\"url(#clip182)\" style=\"stroke:#000000; stroke-width:2; stroke-opacity:0.1; fill:none\" points=\"\n",
       "  234.611,1486.45 234.611,47.2441 \n",
       "  \"/>\n",
       "<polyline clip-path=\"url(#clip182)\" style=\"stroke:#000000; stroke-width:2; stroke-opacity:0.1; fill:none\" points=\"\n",
       "  748.724,1486.45 748.724,47.2441 \n",
       "  \"/>\n",
       "<polyline clip-path=\"url(#clip182)\" style=\"stroke:#000000; stroke-width:2; stroke-opacity:0.1; fill:none\" points=\"\n",
       "  1262.84,1486.45 1262.84,47.2441 \n",
       "  \"/>\n",
       "<polyline clip-path=\"url(#clip182)\" style=\"stroke:#000000; stroke-width:2; stroke-opacity:0.1; fill:none\" points=\"\n",
       "  1776.95,1486.45 1776.95,47.2441 \n",
       "  \"/>\n",
       "<polyline clip-path=\"url(#clip182)\" style=\"stroke:#000000; stroke-width:2; stroke-opacity:0.1; fill:none\" points=\"\n",
       "  2291.06,1486.45 2291.06,47.2441 \n",
       "  \"/>\n",
       "<polyline clip-path=\"url(#clip182)\" style=\"stroke:#000000; stroke-width:2; stroke-opacity:0.1; fill:none\" points=\"\n",
       "  172.918,1445.72 2352.76,1445.72 \n",
       "  \"/>\n",
       "<polyline clip-path=\"url(#clip182)\" style=\"stroke:#000000; stroke-width:2; stroke-opacity:0.1; fill:none\" points=\"\n",
       "  172.918,1106.28 2352.76,1106.28 \n",
       "  \"/>\n",
       "<polyline clip-path=\"url(#clip182)\" style=\"stroke:#000000; stroke-width:2; stroke-opacity:0.1; fill:none\" points=\"\n",
       "  172.918,766.846 2352.76,766.846 \n",
       "  \"/>\n",
       "<polyline clip-path=\"url(#clip182)\" style=\"stroke:#000000; stroke-width:2; stroke-opacity:0.1; fill:none\" points=\"\n",
       "  172.918,427.411 2352.76,427.411 \n",
       "  \"/>\n",
       "<polyline clip-path=\"url(#clip182)\" style=\"stroke:#000000; stroke-width:2; stroke-opacity:0.1; fill:none\" points=\"\n",
       "  172.918,87.9763 2352.76,87.9763 \n",
       "  \"/>\n",
       "<polyline clip-path=\"url(#clip180)\" style=\"stroke:#000000; stroke-width:4; stroke-opacity:1; fill:none\" points=\"\n",
       "  172.918,1486.45 2352.76,1486.45 \n",
       "  \"/>\n",
       "<polyline clip-path=\"url(#clip180)\" style=\"stroke:#000000; stroke-width:4; stroke-opacity:1; fill:none\" points=\"\n",
       "  172.918,1486.45 172.918,47.2441 \n",
       "  \"/>\n",
       "<polyline clip-path=\"url(#clip180)\" style=\"stroke:#000000; stroke-width:4; stroke-opacity:1; fill:none\" points=\"\n",
       "  234.611,1486.45 234.611,1469.18 \n",
       "  \"/>\n",
       "<polyline clip-path=\"url(#clip180)\" style=\"stroke:#000000; stroke-width:4; stroke-opacity:1; fill:none\" points=\"\n",
       "  748.724,1486.45 748.724,1469.18 \n",
       "  \"/>\n",
       "<polyline clip-path=\"url(#clip180)\" style=\"stroke:#000000; stroke-width:4; stroke-opacity:1; fill:none\" points=\"\n",
       "  1262.84,1486.45 1262.84,1469.18 \n",
       "  \"/>\n",
       "<polyline clip-path=\"url(#clip180)\" style=\"stroke:#000000; stroke-width:4; stroke-opacity:1; fill:none\" points=\"\n",
       "  1776.95,1486.45 1776.95,1469.18 \n",
       "  \"/>\n",
       "<polyline clip-path=\"url(#clip180)\" style=\"stroke:#000000; stroke-width:4; stroke-opacity:1; fill:none\" points=\"\n",
       "  2291.06,1486.45 2291.06,1469.18 \n",
       "  \"/>\n",
       "<polyline clip-path=\"url(#clip180)\" style=\"stroke:#000000; stroke-width:4; stroke-opacity:1; fill:none\" points=\"\n",
       "  172.918,1445.72 199.076,1445.72 \n",
       "  \"/>\n",
       "<polyline clip-path=\"url(#clip180)\" style=\"stroke:#000000; stroke-width:4; stroke-opacity:1; fill:none\" points=\"\n",
       "  172.918,1106.28 199.076,1106.28 \n",
       "  \"/>\n",
       "<polyline clip-path=\"url(#clip180)\" style=\"stroke:#000000; stroke-width:4; stroke-opacity:1; fill:none\" points=\"\n",
       "  172.918,766.846 199.076,766.846 \n",
       "  \"/>\n",
       "<polyline clip-path=\"url(#clip180)\" style=\"stroke:#000000; stroke-width:4; stroke-opacity:1; fill:none\" points=\"\n",
       "  172.918,427.411 199.076,427.411 \n",
       "  \"/>\n",
       "<polyline clip-path=\"url(#clip180)\" style=\"stroke:#000000; stroke-width:4; stroke-opacity:1; fill:none\" points=\"\n",
       "  172.918,87.9763 199.076,87.9763 \n",
       "  \"/>\n",
       "<path clip-path=\"url(#clip180)\" d=\"M 0 0 M216.127 1508.44 Q212.516 1508.44 210.688 1512 Q208.882 1515.55 208.882 1522.67 Q208.882 1529.78 210.688 1533.35 Q212.516 1536.89 216.127 1536.89 Q219.762 1536.89 221.567 1533.35 Q223.396 1529.78 223.396 1522.67 Q223.396 1515.55 221.567 1512 Q219.762 1508.44 216.127 1508.44 M216.127 1504.73 Q221.938 1504.73 224.993 1509.34 Q228.072 1513.92 228.072 1522.67 Q228.072 1531.4 224.993 1536.01 Q221.938 1540.59 216.127 1540.59 Q210.317 1540.59 207.239 1536.01 Q204.183 1531.4 204.183 1522.67 Q204.183 1513.92 207.239 1509.34 Q210.317 1504.73 216.127 1504.73 Z\" fill=\"#000000\" fill-rule=\"evenodd\" fill-opacity=\"1\" /><path clip-path=\"url(#clip180)\" d=\"M 0 0 M233.141 1534.04 L238.025 1534.04 L238.025 1539.92 L233.141 1539.92 L233.141 1534.04 Z\" fill=\"#000000\" fill-rule=\"evenodd\" fill-opacity=\"1\" /><path clip-path=\"url(#clip180)\" d=\"M 0 0 M253.095 1508.44 Q249.484 1508.44 247.655 1512 Q245.849 1515.55 245.849 1522.67 Q245.849 1529.78 247.655 1533.35 Q249.484 1536.89 253.095 1536.89 Q256.729 1536.89 258.535 1533.35 Q260.363 1529.78 260.363 1522.67 Q260.363 1515.55 258.535 1512 Q256.729 1508.44 253.095 1508.44 M253.095 1504.73 Q258.905 1504.73 261.961 1509.34 Q265.039 1513.92 265.039 1522.67 Q265.039 1531.4 261.961 1536.01 Q258.905 1540.59 253.095 1540.59 Q247.285 1540.59 244.206 1536.01 Q241.15 1531.4 241.15 1522.67 Q241.15 1513.92 244.206 1509.34 Q247.285 1504.73 253.095 1504.73 Z\" fill=\"#000000\" fill-rule=\"evenodd\" fill-opacity=\"1\" /><path clip-path=\"url(#clip180)\" d=\"M 0 0 M730.738 1508.44 Q727.127 1508.44 725.298 1512 Q723.493 1515.55 723.493 1522.67 Q723.493 1529.78 725.298 1533.35 Q727.127 1536.89 730.738 1536.89 Q734.372 1536.89 736.178 1533.35 Q738.006 1529.78 738.006 1522.67 Q738.006 1515.55 736.178 1512 Q734.372 1508.44 730.738 1508.44 M730.738 1504.73 Q736.548 1504.73 739.604 1509.34 Q742.682 1513.92 742.682 1522.67 Q742.682 1531.4 739.604 1536.01 Q736.548 1540.59 730.738 1540.59 Q724.928 1540.59 721.849 1536.01 Q718.794 1531.4 718.794 1522.67 Q718.794 1513.92 721.849 1509.34 Q724.928 1504.73 730.738 1504.73 Z\" fill=\"#000000\" fill-rule=\"evenodd\" fill-opacity=\"1\" /><path clip-path=\"url(#clip180)\" d=\"M 0 0 M747.752 1534.04 L752.636 1534.04 L752.636 1539.92 L747.752 1539.92 L747.752 1534.04 Z\" fill=\"#000000\" fill-rule=\"evenodd\" fill-opacity=\"1\" /><path clip-path=\"url(#clip180)\" d=\"M 0 0 M757.752 1505.36 L776.108 1505.36 L776.108 1509.3 L762.034 1509.3 L762.034 1517.77 Q763.053 1517.42 764.071 1517.26 Q765.09 1517.07 766.108 1517.07 Q771.895 1517.07 775.275 1520.24 Q778.654 1523.42 778.654 1528.83 Q778.654 1534.41 775.182 1537.51 Q771.71 1540.59 765.391 1540.59 Q763.215 1540.59 760.946 1540.22 Q758.701 1539.85 756.293 1539.11 L756.293 1534.41 Q758.377 1535.54 760.599 1536.1 Q762.821 1536.66 765.298 1536.66 Q769.303 1536.66 771.64 1534.55 Q773.978 1532.44 773.978 1528.83 Q773.978 1525.22 771.64 1523.11 Q769.303 1521.01 765.298 1521.01 Q763.423 1521.01 761.548 1521.42 Q759.696 1521.84 757.752 1522.72 L757.752 1505.36 Z\" fill=\"#000000\" fill-rule=\"evenodd\" fill-opacity=\"1\" /><path clip-path=\"url(#clip180)\" d=\"M 0 0 M1234.74 1535.98 L1242.37 1535.98 L1242.37 1509.62 L1234.06 1511.29 L1234.06 1507.03 L1242.33 1505.36 L1247 1505.36 L1247 1535.98 L1254.64 1535.98 L1254.64 1539.92 L1234.74 1539.92 L1234.74 1535.98 Z\" fill=\"#000000\" fill-rule=\"evenodd\" fill-opacity=\"1\" /><path clip-path=\"url(#clip180)\" d=\"M 0 0 M1259.71 1534.04 L1264.6 1534.04 L1264.6 1539.92 L1259.71 1539.92 L1259.71 1534.04 Z\" fill=\"#000000\" fill-rule=\"evenodd\" fill-opacity=\"1\" /><path clip-path=\"url(#clip180)\" d=\"M 0 0 M1279.67 1508.44 Q1276.05 1508.44 1274.23 1512 Q1272.42 1515.55 1272.42 1522.67 Q1272.42 1529.78 1274.23 1533.35 Q1276.05 1536.89 1279.67 1536.89 Q1283.3 1536.89 1285.11 1533.35 Q1286.93 1529.78 1286.93 1522.67 Q1286.93 1515.55 1285.11 1512 Q1283.3 1508.44 1279.67 1508.44 M1279.67 1504.73 Q1285.48 1504.73 1288.53 1509.34 Q1291.61 1513.92 1291.61 1522.67 Q1291.61 1531.4 1288.53 1536.01 Q1285.48 1540.59 1279.67 1540.59 Q1273.86 1540.59 1270.78 1536.01 Q1267.72 1531.4 1267.72 1522.67 Q1267.72 1513.92 1270.78 1509.34 Q1273.86 1504.73 1279.67 1504.73 Z\" fill=\"#000000\" fill-rule=\"evenodd\" fill-opacity=\"1\" /><path clip-path=\"url(#clip180)\" d=\"M 0 0 M1749.35 1535.98 L1756.98 1535.98 L1756.98 1509.62 L1748.67 1511.29 L1748.67 1507.03 L1756.94 1505.36 L1761.61 1505.36 L1761.61 1535.98 L1769.25 1535.98 L1769.25 1539.92 L1749.35 1539.92 L1749.35 1535.98 Z\" fill=\"#000000\" fill-rule=\"evenodd\" fill-opacity=\"1\" /><path clip-path=\"url(#clip180)\" d=\"M 0 0 M1774.32 1534.04 L1779.21 1534.04 L1779.21 1539.92 L1774.32 1539.92 L1774.32 1534.04 Z\" fill=\"#000000\" fill-rule=\"evenodd\" fill-opacity=\"1\" /><path clip-path=\"url(#clip180)\" d=\"M 0 0 M1784.32 1505.36 L1802.68 1505.36 L1802.68 1509.3 L1788.6 1509.3 L1788.6 1517.77 Q1789.62 1517.42 1790.64 1517.26 Q1791.66 1517.07 1792.68 1517.07 Q1798.47 1517.07 1801.85 1520.24 Q1805.22 1523.42 1805.22 1528.83 Q1805.22 1534.41 1801.75 1537.51 Q1798.28 1540.59 1791.96 1540.59 Q1789.79 1540.59 1787.52 1540.22 Q1785.27 1539.85 1782.86 1539.11 L1782.86 1534.41 Q1784.95 1535.54 1787.17 1536.1 Q1789.39 1536.66 1791.87 1536.66 Q1795.87 1536.66 1798.21 1534.55 Q1800.55 1532.44 1800.55 1528.83 Q1800.55 1525.22 1798.21 1523.11 Q1795.87 1521.01 1791.87 1521.01 Q1789.99 1521.01 1788.12 1521.42 Q1786.27 1521.84 1784.32 1522.72 L1784.32 1505.36 Z\" fill=\"#000000\" fill-rule=\"evenodd\" fill-opacity=\"1\" /><path clip-path=\"url(#clip180)\" d=\"M 0 0 M2267.23 1535.98 L2283.55 1535.98 L2283.55 1539.92 L2261.61 1539.92 L2261.61 1535.98 Q2264.27 1533.23 2268.85 1528.6 Q2273.46 1523.95 2274.64 1522.61 Q2276.88 1520.08 2277.76 1518.35 Q2278.67 1516.59 2278.67 1514.9 Q2278.67 1512.14 2276.72 1510.41 Q2274.8 1508.67 2271.7 1508.67 Q2269.5 1508.67 2267.05 1509.43 Q2264.62 1510.2 2261.84 1511.75 L2261.84 1507.03 Q2264.66 1505.89 2267.12 1505.31 Q2269.57 1504.73 2271.61 1504.73 Q2276.98 1504.73 2280.17 1507.42 Q2283.37 1510.11 2283.37 1514.6 Q2283.37 1516.73 2282.56 1518.65 Q2281.77 1520.54 2279.66 1523.14 Q2279.08 1523.81 2275.98 1527.03 Q2272.88 1530.22 2267.23 1535.98 Z\" fill=\"#000000\" fill-rule=\"evenodd\" fill-opacity=\"1\" /><path clip-path=\"url(#clip180)\" d=\"M 0 0 M2288.62 1534.04 L2293.5 1534.04 L2293.5 1539.92 L2288.62 1539.92 L2288.62 1534.04 Z\" fill=\"#000000\" fill-rule=\"evenodd\" fill-opacity=\"1\" /><path clip-path=\"url(#clip180)\" d=\"M 0 0 M2308.57 1508.44 Q2304.96 1508.44 2303.13 1512 Q2301.33 1515.55 2301.33 1522.67 Q2301.33 1529.78 2303.13 1533.35 Q2304.96 1536.89 2308.57 1536.89 Q2312.21 1536.89 2314.01 1533.35 Q2315.84 1529.78 2315.84 1522.67 Q2315.84 1515.55 2314.01 1512 Q2312.21 1508.44 2308.57 1508.44 M2308.57 1504.73 Q2314.38 1504.73 2317.44 1509.34 Q2320.52 1513.92 2320.52 1522.67 Q2320.52 1531.4 2317.44 1536.01 Q2314.38 1540.59 2308.57 1540.59 Q2302.76 1540.59 2299.69 1536.01 Q2296.63 1531.4 2296.63 1522.67 Q2296.63 1513.92 2299.69 1509.34 Q2302.76 1504.73 2308.57 1504.73 Z\" fill=\"#000000\" fill-rule=\"evenodd\" fill-opacity=\"1\" /><path clip-path=\"url(#clip180)\" d=\"M 0 0 M65.0292 1459.06 L72.668 1459.06 L72.668 1432.69 L64.3579 1434.36 L64.3579 1430.1 L72.6217 1428.44 L77.2976 1428.44 L77.2976 1459.06 L84.9365 1459.06 L84.9365 1463 L65.0292 1463 L65.0292 1459.06 Z\" fill=\"#000000\" fill-rule=\"evenodd\" fill-opacity=\"1\" /><path clip-path=\"url(#clip180)\" d=\"M 0 0 M90.0059 1457.12 L94.8901 1457.12 L94.8901 1463 L90.0059 1463 L90.0059 1457.12 Z\" fill=\"#000000\" fill-rule=\"evenodd\" fill-opacity=\"1\" /><path clip-path=\"url(#clip180)\" d=\"M 0 0 M109.959 1431.51 Q106.348 1431.51 104.52 1435.08 Q102.714 1438.62 102.714 1445.75 Q102.714 1452.86 104.52 1456.42 Q106.348 1459.96 109.959 1459.96 Q113.594 1459.96 115.399 1456.42 Q117.228 1452.86 117.228 1445.75 Q117.228 1438.62 115.399 1435.08 Q113.594 1431.51 109.959 1431.51 M109.959 1427.81 Q115.77 1427.81 118.825 1432.42 Q121.904 1437 121.904 1445.75 Q121.904 1454.48 118.825 1459.08 Q115.77 1463.67 109.959 1463.67 Q104.149 1463.67 101.071 1459.08 Q98.0151 1454.48 98.0151 1445.75 Q98.0151 1437 101.071 1432.42 Q104.149 1427.81 109.959 1427.81 Z\" fill=\"#000000\" fill-rule=\"evenodd\" fill-opacity=\"1\" /><path clip-path=\"url(#clip180)\" d=\"M 0 0 M136.973 1431.51 Q133.362 1431.51 131.533 1435.08 Q129.728 1438.62 129.728 1445.75 Q129.728 1452.86 131.533 1456.42 Q133.362 1459.96 136.973 1459.96 Q140.607 1459.96 142.413 1456.42 Q144.242 1452.86 144.242 1445.75 Q144.242 1438.62 142.413 1435.08 Q140.607 1431.51 136.973 1431.51 M136.973 1427.81 Q142.783 1427.81 145.839 1432.42 Q148.918 1437 148.918 1445.75 Q148.918 1454.48 145.839 1459.08 Q142.783 1463.67 136.973 1463.67 Q131.163 1463.67 128.084 1459.08 Q125.029 1454.48 125.029 1445.75 Q125.029 1437 128.084 1432.42 Q131.163 1427.81 136.973 1427.81 Z\" fill=\"#000000\" fill-rule=\"evenodd\" fill-opacity=\"1\" /><path clip-path=\"url(#clip180)\" d=\"M 0 0 M67.6217 1119.63 L75.2606 1119.63 L75.2606 1093.26 L66.9504 1094.93 L66.9504 1090.67 L75.2143 1089 L79.8902 1089 L79.8902 1119.63 L87.529 1119.63 L87.529 1123.56 L67.6217 1123.56 L67.6217 1119.63 Z\" fill=\"#000000\" fill-rule=\"evenodd\" fill-opacity=\"1\" /><path clip-path=\"url(#clip180)\" d=\"M 0 0 M92.5984 1117.68 L97.4827 1117.68 L97.4827 1123.56 L92.5984 1123.56 L92.5984 1117.68 Z\" fill=\"#000000\" fill-rule=\"evenodd\" fill-opacity=\"1\" /><path clip-path=\"url(#clip180)\" d=\"M 0 0 M106.58 1119.63 L122.899 1119.63 L122.899 1123.56 L100.955 1123.56 L100.955 1119.63 Q103.617 1116.87 108.2 1112.24 Q112.807 1107.59 113.987 1106.25 Q116.233 1103.72 117.112 1101.99 Q118.015 1100.23 118.015 1098.54 Q118.015 1095.78 116.071 1094.05 Q114.149 1092.31 111.047 1092.31 Q108.848 1092.31 106.395 1093.07 Q103.964 1093.84 101.186 1095.39 L101.186 1090.67 Q104.01 1089.53 106.464 1088.95 Q108.918 1088.38 110.955 1088.38 Q116.325 1088.38 119.52 1091.06 Q122.714 1093.75 122.714 1098.24 Q122.714 1100.37 121.904 1102.29 Q121.117 1104.19 119.01 1106.78 Q118.432 1107.45 115.33 1110.67 Q112.228 1113.86 106.58 1119.63 Z\" fill=\"#000000\" fill-rule=\"evenodd\" fill-opacity=\"1\" /><path clip-path=\"url(#clip180)\" d=\"M 0 0 M128.015 1089 L146.371 1089 L146.371 1092.94 L132.297 1092.94 L132.297 1101.41 Q133.316 1101.06 134.334 1100.9 Q135.353 1100.71 136.371 1100.71 Q142.158 1100.71 145.538 1103.89 Q148.918 1107.06 148.918 1112.47 Q148.918 1118.05 145.445 1121.15 Q141.973 1124.23 135.654 1124.23 Q133.478 1124.23 131.209 1123.86 Q128.964 1123.49 126.557 1122.75 L126.557 1118.05 Q128.64 1119.19 130.862 1119.74 Q133.084 1120.3 135.561 1120.3 Q139.566 1120.3 141.904 1118.19 Q144.242 1116.08 144.242 1112.47 Q144.242 1108.86 141.904 1106.76 Q139.566 1104.65 135.561 1104.65 Q133.686 1104.65 131.811 1105.07 Q129.959 1105.48 128.015 1106.36 L128.015 1089 Z\" fill=\"#000000\" fill-rule=\"evenodd\" fill-opacity=\"1\" /><path clip-path=\"url(#clip180)\" d=\"M 0 0 M66.0245 780.191 L73.6634 780.191 L73.6634 753.825 L65.3532 755.492 L65.3532 751.233 L73.6171 749.566 L78.293 749.566 L78.293 780.191 L85.9318 780.191 L85.9318 784.126 L66.0245 784.126 L66.0245 780.191 Z\" fill=\"#000000\" fill-rule=\"evenodd\" fill-opacity=\"1\" /><path clip-path=\"url(#clip180)\" d=\"M 0 0 M91.0012 778.246 L95.8855 778.246 L95.8855 784.126 L91.0012 784.126 L91.0012 778.246 Z\" fill=\"#000000\" fill-rule=\"evenodd\" fill-opacity=\"1\" /><path clip-path=\"url(#clip180)\" d=\"M 0 0 M101.001 749.566 L119.358 749.566 L119.358 753.501 L105.284 753.501 L105.284 761.973 Q106.302 761.626 107.321 761.464 Q108.339 761.279 109.358 761.279 Q115.145 761.279 118.524 764.45 Q121.904 767.621 121.904 773.038 Q121.904 778.617 118.432 781.719 Q114.959 784.797 108.64 784.797 Q106.464 784.797 104.196 784.427 Q101.95 784.057 99.5429 783.316 L99.5429 778.617 Q101.626 779.751 103.848 780.307 Q106.071 780.862 108.547 780.862 Q112.552 780.862 114.89 778.756 Q117.228 776.649 117.228 773.038 Q117.228 769.427 114.89 767.321 Q112.552 765.214 108.547 765.214 Q106.672 765.214 104.797 765.631 Q102.946 766.047 101.001 766.927 L101.001 749.566 Z\" fill=\"#000000\" fill-rule=\"evenodd\" fill-opacity=\"1\" /><path clip-path=\"url(#clip180)\" d=\"M 0 0 M136.973 752.645 Q133.362 752.645 131.533 756.209 Q129.728 759.751 129.728 766.881 Q129.728 773.987 131.533 777.552 Q133.362 781.094 136.973 781.094 Q140.607 781.094 142.413 777.552 Q144.242 773.987 144.242 766.881 Q144.242 759.751 142.413 756.209 Q140.607 752.645 136.973 752.645 M136.973 748.941 Q142.783 748.941 145.839 753.547 Q148.918 758.131 148.918 766.881 Q148.918 775.608 145.839 780.214 Q142.783 784.797 136.973 784.797 Q131.163 784.797 128.084 780.214 Q125.029 775.608 125.029 766.881 Q125.029 758.131 128.084 753.547 Q131.163 748.941 136.973 748.941 Z\" fill=\"#000000\" fill-rule=\"evenodd\" fill-opacity=\"1\" /><path clip-path=\"url(#clip180)\" d=\"M 0 0 M66.9273 440.756 L74.5661 440.756 L74.5661 414.39 L66.256 416.057 L66.256 411.798 L74.5198 410.131 L79.1957 410.131 L79.1957 440.756 L86.8346 440.756 L86.8346 444.691 L66.9273 444.691 L66.9273 440.756 Z\" fill=\"#000000\" fill-rule=\"evenodd\" fill-opacity=\"1\" /><path clip-path=\"url(#clip180)\" d=\"M 0 0 M91.904 438.812 L96.7882 438.812 L96.7882 444.691 L91.904 444.691 L91.904 438.812 Z\" fill=\"#000000\" fill-rule=\"evenodd\" fill-opacity=\"1\" /><path clip-path=\"url(#clip180)\" d=\"M 0 0 M100.677 410.131 L122.899 410.131 L122.899 412.122 L110.353 444.691 L105.469 444.691 L117.274 414.066 L100.677 414.066 L100.677 410.131 Z\" fill=\"#000000\" fill-rule=\"evenodd\" fill-opacity=\"1\" /><path clip-path=\"url(#clip180)\" d=\"M 0 0 M128.015 410.131 L146.371 410.131 L146.371 414.066 L132.297 414.066 L132.297 422.538 Q133.316 422.191 134.334 422.029 Q135.353 421.844 136.371 421.844 Q142.158 421.844 145.538 425.015 Q148.918 428.187 148.918 433.603 Q148.918 439.182 145.445 442.284 Q141.973 445.362 135.654 445.362 Q133.478 445.362 131.209 444.992 Q128.964 444.622 126.557 443.881 L126.557 439.182 Q128.64 440.316 130.862 440.872 Q133.084 441.427 135.561 441.427 Q139.566 441.427 141.904 439.321 Q144.242 437.214 144.242 433.603 Q144.242 429.992 141.904 427.886 Q139.566 425.779 135.561 425.779 Q133.686 425.779 131.811 426.196 Q129.959 426.613 128.015 427.492 L128.015 410.131 Z\" fill=\"#000000\" fill-rule=\"evenodd\" fill-opacity=\"1\" /><path clip-path=\"url(#clip180)\" d=\"M 0 0 M68.6171 101.321 L84.9365 101.321 L84.9365 105.256 L62.9921 105.256 L62.9921 101.321 Q65.6541 98.5665 70.2375 93.9369 Q74.8439 89.2841 76.0245 87.9416 Q78.2698 85.4184 79.1494 83.6823 Q80.0522 81.9231 80.0522 80.2333 Q80.0522 77.4786 78.1078 75.7425 Q76.1865 74.0064 73.0847 74.0064 Q70.8856 74.0064 68.4319 74.7703 Q66.0014 75.5342 63.2236 77.0851 L63.2236 72.3629 Q66.0477 71.2287 68.5014 70.65 Q70.955 70.0713 72.9921 70.0713 Q78.3624 70.0713 81.5568 72.7565 Q84.7513 75.4416 84.7513 79.9323 Q84.7513 82.062 83.9411 83.9832 Q83.1541 85.8814 81.0476 88.474 Q80.4689 89.1453 77.367 92.3628 Q74.2652 95.5573 68.6171 101.321 Z\" fill=\"#000000\" fill-rule=\"evenodd\" fill-opacity=\"1\" /><path clip-path=\"url(#clip180)\" d=\"M 0 0 M90.0059 99.3767 L94.8901 99.3767 L94.8901 105.256 L90.0059 105.256 L90.0059 99.3767 Z\" fill=\"#000000\" fill-rule=\"evenodd\" fill-opacity=\"1\" /><path clip-path=\"url(#clip180)\" d=\"M 0 0 M109.959 73.775 Q106.348 73.775 104.52 77.3398 Q102.714 80.8814 102.714 88.011 Q102.714 95.1174 104.52 98.6822 Q106.348 102.224 109.959 102.224 Q113.594 102.224 115.399 98.6822 Q117.228 95.1174 117.228 88.011 Q117.228 80.8814 115.399 77.3398 Q113.594 73.775 109.959 73.775 M109.959 70.0713 Q115.77 70.0713 118.825 74.6777 Q121.904 79.261 121.904 88.011 Q121.904 96.7378 118.825 101.344 Q115.77 105.928 109.959 105.928 Q104.149 105.928 101.071 101.344 Q98.0151 96.7378 98.0151 88.011 Q98.0151 79.261 101.071 74.6777 Q104.149 70.0713 109.959 70.0713 Z\" fill=\"#000000\" fill-rule=\"evenodd\" fill-opacity=\"1\" /><path clip-path=\"url(#clip180)\" d=\"M 0 0 M136.973 73.775 Q133.362 73.775 131.533 77.3398 Q129.728 80.8814 129.728 88.011 Q129.728 95.1174 131.533 98.6822 Q133.362 102.224 136.973 102.224 Q140.607 102.224 142.413 98.6822 Q144.242 95.1174 144.242 88.011 Q144.242 80.8814 142.413 77.3398 Q140.607 73.775 136.973 73.775 M136.973 70.0713 Q142.783 70.0713 145.839 74.6777 Q148.918 79.261 148.918 88.011 Q148.918 96.7378 145.839 101.344 Q142.783 105.928 136.973 105.928 Q131.163 105.928 128.084 101.344 Q125.029 96.7378 125.029 88.011 Q125.029 79.261 128.084 74.6777 Q131.163 70.0713 136.973 70.0713 Z\" fill=\"#000000\" fill-rule=\"evenodd\" fill-opacity=\"1\" /><polyline clip-path=\"url(#clip182)\" style=\"stroke:#009af9; stroke-width:4; stroke-opacity:1; fill:none\" points=\"\n",
       "  234.611,1445.72 286.022,1445.72 337.434,1445.72 388.845,1445.72 440.256,1445.72 491.668,1445.72 543.079,1445.72 594.49,1445.72 645.901,1445.72 697.313,1445.72 \n",
       "  748.724,87.9763 800.135,87.9763 851.547,87.9763 902.958,87.9763 954.369,87.9763 1005.78,87.9763 1057.19,87.9763 1108.6,87.9763 1160.01,87.9763 1211.43,87.9763 \n",
       "  1262.84,87.9763 1314.25,1445.72 1365.66,1445.72 1417.07,1445.72 1468.48,1445.72 1519.89,1445.72 1571.3,1445.72 1622.72,1445.72 1674.13,1445.72 1725.54,1445.72 \n",
       "  1776.95,1445.72 1828.36,1445.72 1879.77,1445.72 1931.18,1445.72 1982.59,1445.72 2034.01,1445.72 2085.42,1445.72 2136.83,1445.72 2188.24,1445.72 2239.65,1445.72 \n",
       "  2291.06,1445.72 \n",
       "  \"/>\n",
       "<path clip-path=\"url(#clip180)\" d=\"\n",
       "M1989.74 251.724 L2280.76 251.724 L2280.76 130.764 L1989.74 130.764  Z\n",
       "  \" fill=\"#ffffff\" fill-rule=\"evenodd\" fill-opacity=\"1\"/>\n",
       "<polyline clip-path=\"url(#clip180)\" style=\"stroke:#000000; stroke-width:4; stroke-opacity:1; fill:none\" points=\"\n",
       "  1989.74,251.724 2280.76,251.724 2280.76,130.764 1989.74,130.764 1989.74,251.724 \n",
       "  \"/>\n",
       "<polyline clip-path=\"url(#clip180)\" style=\"stroke:#009af9; stroke-width:4; stroke-opacity:1; fill:none\" points=\"\n",
       "  2013.74,191.244 2157.74,191.244 \n",
       "  \"/>\n",
       "<path clip-path=\"url(#clip180)\" d=\"M 0 0 M2195.58 210.931 Q2193.77 215.561 2192.06 216.973 Q2190.35 218.385 2187.48 218.385 L2184.08 218.385 L2184.08 214.82 L2186.58 214.82 Q2188.33 214.82 2189.31 213.987 Q2190.28 213.154 2191.46 210.052 L2192.22 208.107 L2181.74 182.598 L2186.25 182.598 L2194.35 202.876 L2202.46 182.598 L2206.97 182.598 L2195.58 210.931 Z\" fill=\"#000000\" fill-rule=\"evenodd\" fill-opacity=\"1\" /><path clip-path=\"url(#clip180)\" d=\"M 0 0 M2212.85 204.589 L2220.49 204.589 L2220.49 178.223 L2212.18 179.89 L2212.18 175.631 L2220.44 173.964 L2225.12 173.964 L2225.12 204.589 L2232.76 204.589 L2232.76 208.524 L2212.85 208.524 L2212.85 204.589 Z\" fill=\"#000000\" fill-rule=\"evenodd\" fill-opacity=\"1\" /></svg>\n"
      ]
     },
     "execution_count": 207,
     "metadata": {},
     "output_type": "execute_result"
    }
   ],
   "source": [
    "plot(range(0, stop=2, length=nx), u₀)"
   ]
  },
  {
   "cell_type": "markdown",
   "metadata": {
    "collapsed": false
   },
   "source": [
    "Why doesn't the hat function have perfectly straight sides? Think for a bit."
   ]
  },
  {
   "cell_type": "markdown",
   "metadata": {
    "collapsed": false
   },
   "source": [
    "Now it's time to implement the discretization of the convection equation using a finite-difference scheme.  \n",
    "\n",
    "For every element of our array `u`, we need to perform the operation $u_i^{n+1} = u_i^n - c \\frac{\\Delta t}{\\Delta x}(u_i^n-u_{i-1}^n)$\n",
    "\n",
    "We'll store the result in a new (temporary) array `uⁿ⁺¹`, which will be the solution $u$ for the next time-step.  We will repeat this operation for as many time-steps as we specify and then we can see how far the wave has convected.  \n",
    "\n",
    "We first initialize our placeholder array `uⁿ⁺¹` to hold the values we calculate for the $n+1$ timestep, using the `ones()` function. \n",
    "\n",
    "Note that in julia we can have unicode variable names to improve readability. Using tab completion unicode characters can quickly and easily be added. See the julia documentation for more information: [Unicode Input](https://docs.julialang.org/en/v1/manual/unicode-input/index.html).\n",
    "\n",
    "Then, we may think we have two iterative operations: one in space and one in time (we'll learn differently later), so we'll start by nesting one loop inside the other. When we write: `for i in 2:nx` we will iterate through the `uⁿ` array, but we'll be skipping the first element. *Why?*\n",
    "\n",
    "Note, Like MATLAB Julia array indexing starts at 1."
   ]
  },
  {
   "cell_type": "code",
   "execution_count": 219,
   "metadata": {
    "collapsed": false
   },
   "outputs": [],
   "source": [
    "uⁿ⁺¹ = copy(u₀) # Initialise arbitrary future timestep with inital condition, u₀\n",
    "\n",
    "for n in 1:nt       # loop over timesteps, n, from timestep 1 to nt, so it will run nt times\n",
    "    uⁿ = copy(uⁿ⁺¹) # copy the existing values of uⁿ into uⁿ⁺¹\n",
    "    for i in 2:nx   # you can try commenting this line and...\n",
    "    #for i in 1:nx    # ... uncommenting this line and see what happens!\n",
    "        uⁿ⁺¹[i] = uⁿ[i] - c * Δt/Δx * (uⁿ[i] - uⁿ[i-1])\n",
    "    end\n",
    "end\n",
    "\n",
    "u = uⁿ⁺¹; # Assign uⁿ⁺¹ to u as no further timesteps will be computed. Semi-colon suppresses output."
   ]
  },
  {
   "cell_type": "markdown",
   "metadata": {
    "collapsed": false
   },
   "source": [
    "**Note**—We will learn later that the code as written above is quite inefficient, and there are better ways to write this in julia, but let's carry on.\n",
    "\n",
    "Now let's try plotting our `u` array after advancing in time."
   ]
  },
  {
   "cell_type": "code",
   "execution_count": 209,
   "metadata": {
    "collapsed": false
   },
   "outputs": [
    {
     "data": {
      "image/svg+xml": [
       "<?xml version=\"1.0\" encoding=\"utf-8\"?>\n",
       "<svg xmlns=\"http://www.w3.org/2000/svg\" xmlns:xlink=\"http://www.w3.org/1999/xlink\" width=\"600\" height=\"400\" viewBox=\"0 0 2400 1600\">\n",
       "<defs>\n",
       "  <clipPath id=\"clip220\">\n",
       "    <rect x=\"0\" y=\"0\" width=\"2400\" height=\"1600\"/>\n",
       "  </clipPath>\n",
       "</defs>\n",
       "<path clip-path=\"url(#clip220)\" d=\"\n",
       "M0 1600 L2400 1600 L2400 0 L0 0  Z\n",
       "  \" fill=\"#ffffff\" fill-rule=\"evenodd\" fill-opacity=\"1\"/>\n",
       "<defs>\n",
       "  <clipPath id=\"clip221\">\n",
       "    <rect x=\"480\" y=\"0\" width=\"1681\" height=\"1600\"/>\n",
       "  </clipPath>\n",
       "</defs>\n",
       "<path clip-path=\"url(#clip220)\" d=\"\n",
       "M172.918 1486.45 L2352.76 1486.45 L2352.76 47.2441 L172.918 47.2441  Z\n",
       "  \" fill=\"#ffffff\" fill-rule=\"evenodd\" fill-opacity=\"1\"/>\n",
       "<defs>\n",
       "  <clipPath id=\"clip222\">\n",
       "    <rect x=\"172\" y=\"47\" width=\"2181\" height=\"1440\"/>\n",
       "  </clipPath>\n",
       "</defs>\n",
       "<polyline clip-path=\"url(#clip222)\" style=\"stroke:#000000; stroke-width:2; stroke-opacity:0.1; fill:none\" points=\"\n",
       "  234.611,1486.45 234.611,47.2441 \n",
       "  \"/>\n",
       "<polyline clip-path=\"url(#clip222)\" style=\"stroke:#000000; stroke-width:2; stroke-opacity:0.1; fill:none\" points=\"\n",
       "  748.724,1486.45 748.724,47.2441 \n",
       "  \"/>\n",
       "<polyline clip-path=\"url(#clip222)\" style=\"stroke:#000000; stroke-width:2; stroke-opacity:0.1; fill:none\" points=\"\n",
       "  1262.84,1486.45 1262.84,47.2441 \n",
       "  \"/>\n",
       "<polyline clip-path=\"url(#clip222)\" style=\"stroke:#000000; stroke-width:2; stroke-opacity:0.1; fill:none\" points=\"\n",
       "  1776.95,1486.45 1776.95,47.2441 \n",
       "  \"/>\n",
       "<polyline clip-path=\"url(#clip222)\" style=\"stroke:#000000; stroke-width:2; stroke-opacity:0.1; fill:none\" points=\"\n",
       "  2291.06,1486.45 2291.06,47.2441 \n",
       "  \"/>\n",
       "<polyline clip-path=\"url(#clip222)\" style=\"stroke:#000000; stroke-width:2; stroke-opacity:0.1; fill:none\" points=\"\n",
       "  172.918,1445.72 2352.76,1445.72 \n",
       "  \"/>\n",
       "<polyline clip-path=\"url(#clip222)\" style=\"stroke:#000000; stroke-width:2; stroke-opacity:0.1; fill:none\" points=\"\n",
       "  172.918,1096.16 2352.76,1096.16 \n",
       "  \"/>\n",
       "<polyline clip-path=\"url(#clip222)\" style=\"stroke:#000000; stroke-width:2; stroke-opacity:0.1; fill:none\" points=\"\n",
       "  172.918,746.6 2352.76,746.6 \n",
       "  \"/>\n",
       "<polyline clip-path=\"url(#clip222)\" style=\"stroke:#000000; stroke-width:2; stroke-opacity:0.1; fill:none\" points=\"\n",
       "  172.918,397.042 2352.76,397.042 \n",
       "  \"/>\n",
       "<polyline clip-path=\"url(#clip222)\" style=\"stroke:#000000; stroke-width:2; stroke-opacity:0.1; fill:none\" points=\"\n",
       "  172.918,47.4845 2352.76,47.4845 \n",
       "  \"/>\n",
       "<polyline clip-path=\"url(#clip220)\" style=\"stroke:#000000; stroke-width:4; stroke-opacity:1; fill:none\" points=\"\n",
       "  172.918,1486.45 2352.76,1486.45 \n",
       "  \"/>\n",
       "<polyline clip-path=\"url(#clip220)\" style=\"stroke:#000000; stroke-width:4; stroke-opacity:1; fill:none\" points=\"\n",
       "  172.918,1486.45 172.918,47.2441 \n",
       "  \"/>\n",
       "<polyline clip-path=\"url(#clip220)\" style=\"stroke:#000000; stroke-width:4; stroke-opacity:1; fill:none\" points=\"\n",
       "  234.611,1486.45 234.611,1469.18 \n",
       "  \"/>\n",
       "<polyline clip-path=\"url(#clip220)\" style=\"stroke:#000000; stroke-width:4; stroke-opacity:1; fill:none\" points=\"\n",
       "  748.724,1486.45 748.724,1469.18 \n",
       "  \"/>\n",
       "<polyline clip-path=\"url(#clip220)\" style=\"stroke:#000000; stroke-width:4; stroke-opacity:1; fill:none\" points=\"\n",
       "  1262.84,1486.45 1262.84,1469.18 \n",
       "  \"/>\n",
       "<polyline clip-path=\"url(#clip220)\" style=\"stroke:#000000; stroke-width:4; stroke-opacity:1; fill:none\" points=\"\n",
       "  1776.95,1486.45 1776.95,1469.18 \n",
       "  \"/>\n",
       "<polyline clip-path=\"url(#clip220)\" style=\"stroke:#000000; stroke-width:4; stroke-opacity:1; fill:none\" points=\"\n",
       "  2291.06,1486.45 2291.06,1469.18 \n",
       "  \"/>\n",
       "<polyline clip-path=\"url(#clip220)\" style=\"stroke:#000000; stroke-width:4; stroke-opacity:1; fill:none\" points=\"\n",
       "  172.918,1445.72 199.076,1445.72 \n",
       "  \"/>\n",
       "<polyline clip-path=\"url(#clip220)\" style=\"stroke:#000000; stroke-width:4; stroke-opacity:1; fill:none\" points=\"\n",
       "  172.918,1096.16 199.076,1096.16 \n",
       "  \"/>\n",
       "<polyline clip-path=\"url(#clip220)\" style=\"stroke:#000000; stroke-width:4; stroke-opacity:1; fill:none\" points=\"\n",
       "  172.918,746.6 199.076,746.6 \n",
       "  \"/>\n",
       "<polyline clip-path=\"url(#clip220)\" style=\"stroke:#000000; stroke-width:4; stroke-opacity:1; fill:none\" points=\"\n",
       "  172.918,397.042 199.076,397.042 \n",
       "  \"/>\n",
       "<polyline clip-path=\"url(#clip220)\" style=\"stroke:#000000; stroke-width:4; stroke-opacity:1; fill:none\" points=\"\n",
       "  172.918,47.4845 199.076,47.4845 \n",
       "  \"/>\n",
       "<path clip-path=\"url(#clip220)\" d=\"M 0 0 M216.127 1508.44 Q212.516 1508.44 210.688 1512 Q208.882 1515.55 208.882 1522.67 Q208.882 1529.78 210.688 1533.35 Q212.516 1536.89 216.127 1536.89 Q219.762 1536.89 221.567 1533.35 Q223.396 1529.78 223.396 1522.67 Q223.396 1515.55 221.567 1512 Q219.762 1508.44 216.127 1508.44 M216.127 1504.73 Q221.938 1504.73 224.993 1509.34 Q228.072 1513.92 228.072 1522.67 Q228.072 1531.4 224.993 1536.01 Q221.938 1540.59 216.127 1540.59 Q210.317 1540.59 207.239 1536.01 Q204.183 1531.4 204.183 1522.67 Q204.183 1513.92 207.239 1509.34 Q210.317 1504.73 216.127 1504.73 Z\" fill=\"#000000\" fill-rule=\"evenodd\" fill-opacity=\"1\" /><path clip-path=\"url(#clip220)\" d=\"M 0 0 M233.141 1534.04 L238.025 1534.04 L238.025 1539.92 L233.141 1539.92 L233.141 1534.04 Z\" fill=\"#000000\" fill-rule=\"evenodd\" fill-opacity=\"1\" /><path clip-path=\"url(#clip220)\" d=\"M 0 0 M253.095 1508.44 Q249.484 1508.44 247.655 1512 Q245.849 1515.55 245.849 1522.67 Q245.849 1529.78 247.655 1533.35 Q249.484 1536.89 253.095 1536.89 Q256.729 1536.89 258.535 1533.35 Q260.363 1529.78 260.363 1522.67 Q260.363 1515.55 258.535 1512 Q256.729 1508.44 253.095 1508.44 M253.095 1504.73 Q258.905 1504.73 261.961 1509.34 Q265.039 1513.92 265.039 1522.67 Q265.039 1531.4 261.961 1536.01 Q258.905 1540.59 253.095 1540.59 Q247.285 1540.59 244.206 1536.01 Q241.15 1531.4 241.15 1522.67 Q241.15 1513.92 244.206 1509.34 Q247.285 1504.73 253.095 1504.73 Z\" fill=\"#000000\" fill-rule=\"evenodd\" fill-opacity=\"1\" /><path clip-path=\"url(#clip220)\" d=\"M 0 0 M730.738 1508.44 Q727.127 1508.44 725.298 1512 Q723.493 1515.55 723.493 1522.67 Q723.493 1529.78 725.298 1533.35 Q727.127 1536.89 730.738 1536.89 Q734.372 1536.89 736.178 1533.35 Q738.006 1529.78 738.006 1522.67 Q738.006 1515.55 736.178 1512 Q734.372 1508.44 730.738 1508.44 M730.738 1504.73 Q736.548 1504.73 739.604 1509.34 Q742.682 1513.92 742.682 1522.67 Q742.682 1531.4 739.604 1536.01 Q736.548 1540.59 730.738 1540.59 Q724.928 1540.59 721.849 1536.01 Q718.794 1531.4 718.794 1522.67 Q718.794 1513.92 721.849 1509.34 Q724.928 1504.73 730.738 1504.73 Z\" fill=\"#000000\" fill-rule=\"evenodd\" fill-opacity=\"1\" /><path clip-path=\"url(#clip220)\" d=\"M 0 0 M747.752 1534.04 L752.636 1534.04 L752.636 1539.92 L747.752 1539.92 L747.752 1534.04 Z\" fill=\"#000000\" fill-rule=\"evenodd\" fill-opacity=\"1\" /><path clip-path=\"url(#clip220)\" d=\"M 0 0 M757.752 1505.36 L776.108 1505.36 L776.108 1509.3 L762.034 1509.3 L762.034 1517.77 Q763.053 1517.42 764.071 1517.26 Q765.09 1517.07 766.108 1517.07 Q771.895 1517.07 775.275 1520.24 Q778.654 1523.42 778.654 1528.83 Q778.654 1534.41 775.182 1537.51 Q771.71 1540.59 765.391 1540.59 Q763.215 1540.59 760.946 1540.22 Q758.701 1539.85 756.293 1539.11 L756.293 1534.41 Q758.377 1535.54 760.599 1536.1 Q762.821 1536.66 765.298 1536.66 Q769.303 1536.66 771.64 1534.55 Q773.978 1532.44 773.978 1528.83 Q773.978 1525.22 771.64 1523.11 Q769.303 1521.01 765.298 1521.01 Q763.423 1521.01 761.548 1521.42 Q759.696 1521.84 757.752 1522.72 L757.752 1505.36 Z\" fill=\"#000000\" fill-rule=\"evenodd\" fill-opacity=\"1\" /><path clip-path=\"url(#clip220)\" d=\"M 0 0 M1234.74 1535.98 L1242.37 1535.98 L1242.37 1509.62 L1234.06 1511.29 L1234.06 1507.03 L1242.33 1505.36 L1247 1505.36 L1247 1535.98 L1254.64 1535.98 L1254.64 1539.92 L1234.74 1539.92 L1234.74 1535.98 Z\" fill=\"#000000\" fill-rule=\"evenodd\" fill-opacity=\"1\" /><path clip-path=\"url(#clip220)\" d=\"M 0 0 M1259.71 1534.04 L1264.6 1534.04 L1264.6 1539.92 L1259.71 1539.92 L1259.71 1534.04 Z\" fill=\"#000000\" fill-rule=\"evenodd\" fill-opacity=\"1\" /><path clip-path=\"url(#clip220)\" d=\"M 0 0 M1279.67 1508.44 Q1276.05 1508.44 1274.23 1512 Q1272.42 1515.55 1272.42 1522.67 Q1272.42 1529.78 1274.23 1533.35 Q1276.05 1536.89 1279.67 1536.89 Q1283.3 1536.89 1285.11 1533.35 Q1286.93 1529.78 1286.93 1522.67 Q1286.93 1515.55 1285.11 1512 Q1283.3 1508.44 1279.67 1508.44 M1279.67 1504.73 Q1285.48 1504.73 1288.53 1509.34 Q1291.61 1513.92 1291.61 1522.67 Q1291.61 1531.4 1288.53 1536.01 Q1285.48 1540.59 1279.67 1540.59 Q1273.86 1540.59 1270.78 1536.01 Q1267.72 1531.4 1267.72 1522.67 Q1267.72 1513.92 1270.78 1509.34 Q1273.86 1504.73 1279.67 1504.73 Z\" fill=\"#000000\" fill-rule=\"evenodd\" fill-opacity=\"1\" /><path clip-path=\"url(#clip220)\" d=\"M 0 0 M1749.35 1535.98 L1756.98 1535.98 L1756.98 1509.62 L1748.67 1511.29 L1748.67 1507.03 L1756.94 1505.36 L1761.61 1505.36 L1761.61 1535.98 L1769.25 1535.98 L1769.25 1539.92 L1749.35 1539.92 L1749.35 1535.98 Z\" fill=\"#000000\" fill-rule=\"evenodd\" fill-opacity=\"1\" /><path clip-path=\"url(#clip220)\" d=\"M 0 0 M1774.32 1534.04 L1779.21 1534.04 L1779.21 1539.92 L1774.32 1539.92 L1774.32 1534.04 Z\" fill=\"#000000\" fill-rule=\"evenodd\" fill-opacity=\"1\" /><path clip-path=\"url(#clip220)\" d=\"M 0 0 M1784.32 1505.36 L1802.68 1505.36 L1802.68 1509.3 L1788.6 1509.3 L1788.6 1517.77 Q1789.62 1517.42 1790.64 1517.26 Q1791.66 1517.07 1792.68 1517.07 Q1798.47 1517.07 1801.85 1520.24 Q1805.22 1523.42 1805.22 1528.83 Q1805.22 1534.41 1801.75 1537.51 Q1798.28 1540.59 1791.96 1540.59 Q1789.79 1540.59 1787.52 1540.22 Q1785.27 1539.85 1782.86 1539.11 L1782.86 1534.41 Q1784.95 1535.54 1787.17 1536.1 Q1789.39 1536.66 1791.87 1536.66 Q1795.87 1536.66 1798.21 1534.55 Q1800.55 1532.44 1800.55 1528.83 Q1800.55 1525.22 1798.21 1523.11 Q1795.87 1521.01 1791.87 1521.01 Q1789.99 1521.01 1788.12 1521.42 Q1786.27 1521.84 1784.32 1522.72 L1784.32 1505.36 Z\" fill=\"#000000\" fill-rule=\"evenodd\" fill-opacity=\"1\" /><path clip-path=\"url(#clip220)\" d=\"M 0 0 M2267.23 1535.98 L2283.55 1535.98 L2283.55 1539.92 L2261.61 1539.92 L2261.61 1535.98 Q2264.27 1533.23 2268.85 1528.6 Q2273.46 1523.95 2274.64 1522.61 Q2276.88 1520.08 2277.76 1518.35 Q2278.67 1516.59 2278.67 1514.9 Q2278.67 1512.14 2276.72 1510.41 Q2274.8 1508.67 2271.7 1508.67 Q2269.5 1508.67 2267.05 1509.43 Q2264.62 1510.2 2261.84 1511.75 L2261.84 1507.03 Q2264.66 1505.89 2267.12 1505.31 Q2269.57 1504.73 2271.61 1504.73 Q2276.98 1504.73 2280.17 1507.42 Q2283.37 1510.11 2283.37 1514.6 Q2283.37 1516.73 2282.56 1518.65 Q2281.77 1520.54 2279.66 1523.14 Q2279.08 1523.81 2275.98 1527.03 Q2272.88 1530.22 2267.23 1535.98 Z\" fill=\"#000000\" fill-rule=\"evenodd\" fill-opacity=\"1\" /><path clip-path=\"url(#clip220)\" d=\"M 0 0 M2288.62 1534.04 L2293.5 1534.04 L2293.5 1539.92 L2288.62 1539.92 L2288.62 1534.04 Z\" fill=\"#000000\" fill-rule=\"evenodd\" fill-opacity=\"1\" /><path clip-path=\"url(#clip220)\" d=\"M 0 0 M2308.57 1508.44 Q2304.96 1508.44 2303.13 1512 Q2301.33 1515.55 2301.33 1522.67 Q2301.33 1529.78 2303.13 1533.35 Q2304.96 1536.89 2308.57 1536.89 Q2312.21 1536.89 2314.01 1533.35 Q2315.84 1529.78 2315.84 1522.67 Q2315.84 1515.55 2314.01 1512 Q2312.21 1508.44 2308.57 1508.44 M2308.57 1504.73 Q2314.38 1504.73 2317.44 1509.34 Q2320.52 1513.92 2320.52 1522.67 Q2320.52 1531.4 2317.44 1536.01 Q2314.38 1540.59 2308.57 1540.59 Q2302.76 1540.59 2299.69 1536.01 Q2296.63 1531.4 2296.63 1522.67 Q2296.63 1513.92 2299.69 1509.34 Q2302.76 1504.73 2308.57 1504.73 Z\" fill=\"#000000\" fill-rule=\"evenodd\" fill-opacity=\"1\" /><path clip-path=\"url(#clip220)\" d=\"M 0 0 M65.0292 1459.06 L72.668 1459.06 L72.668 1432.69 L64.3579 1434.36 L64.3579 1430.1 L72.6217 1428.44 L77.2976 1428.44 L77.2976 1459.06 L84.9365 1459.06 L84.9365 1463 L65.0292 1463 L65.0292 1459.06 Z\" fill=\"#000000\" fill-rule=\"evenodd\" fill-opacity=\"1\" /><path clip-path=\"url(#clip220)\" d=\"M 0 0 M90.0059 1457.12 L94.8901 1457.12 L94.8901 1463 L90.0059 1463 L90.0059 1457.12 Z\" fill=\"#000000\" fill-rule=\"evenodd\" fill-opacity=\"1\" /><path clip-path=\"url(#clip220)\" d=\"M 0 0 M109.959 1431.51 Q106.348 1431.51 104.52 1435.08 Q102.714 1438.62 102.714 1445.75 Q102.714 1452.86 104.52 1456.42 Q106.348 1459.96 109.959 1459.96 Q113.594 1459.96 115.399 1456.42 Q117.228 1452.86 117.228 1445.75 Q117.228 1438.62 115.399 1435.08 Q113.594 1431.51 109.959 1431.51 M109.959 1427.81 Q115.77 1427.81 118.825 1432.42 Q121.904 1437 121.904 1445.75 Q121.904 1454.48 118.825 1459.08 Q115.77 1463.67 109.959 1463.67 Q104.149 1463.67 101.071 1459.08 Q98.0151 1454.48 98.0151 1445.75 Q98.0151 1437 101.071 1432.42 Q104.149 1427.81 109.959 1427.81 Z\" fill=\"#000000\" fill-rule=\"evenodd\" fill-opacity=\"1\" /><path clip-path=\"url(#clip220)\" d=\"M 0 0 M136.973 1431.51 Q133.362 1431.51 131.533 1435.08 Q129.728 1438.62 129.728 1445.75 Q129.728 1452.86 131.533 1456.42 Q133.362 1459.96 136.973 1459.96 Q140.607 1459.96 142.413 1456.42 Q144.242 1452.86 144.242 1445.75 Q144.242 1438.62 142.413 1435.08 Q140.607 1431.51 136.973 1431.51 M136.973 1427.81 Q142.783 1427.81 145.839 1432.42 Q148.918 1437 148.918 1445.75 Q148.918 1454.48 145.839 1459.08 Q142.783 1463.67 136.973 1463.67 Q131.163 1463.67 128.084 1459.08 Q125.029 1454.48 125.029 1445.75 Q125.029 1437 128.084 1432.42 Q131.163 1427.81 136.973 1427.81 Z\" fill=\"#000000\" fill-rule=\"evenodd\" fill-opacity=\"1\" /><path clip-path=\"url(#clip220)\" d=\"M 0 0 M67.6217 1109.5 L75.2606 1109.5 L75.2606 1083.14 L66.9504 1084.8 L66.9504 1080.54 L75.2143 1078.88 L79.8902 1078.88 L79.8902 1109.5 L87.529 1109.5 L87.529 1113.44 L67.6217 1113.44 L67.6217 1109.5 Z\" fill=\"#000000\" fill-rule=\"evenodd\" fill-opacity=\"1\" /><path clip-path=\"url(#clip220)\" d=\"M 0 0 M92.5984 1107.56 L97.4827 1107.56 L97.4827 1113.44 L92.5984 1113.44 L92.5984 1107.56 Z\" fill=\"#000000\" fill-rule=\"evenodd\" fill-opacity=\"1\" /><path clip-path=\"url(#clip220)\" d=\"M 0 0 M106.58 1109.5 L122.899 1109.5 L122.899 1113.44 L100.955 1113.44 L100.955 1109.5 Q103.617 1106.75 108.2 1102.12 Q112.807 1097.47 113.987 1096.12 Q116.233 1093.6 117.112 1091.86 Q118.015 1090.1 118.015 1088.41 Q118.015 1085.66 116.071 1083.92 Q114.149 1082.19 111.047 1082.19 Q108.848 1082.19 106.395 1082.95 Q103.964 1083.72 101.186 1085.27 L101.186 1080.54 Q104.01 1079.41 106.464 1078.83 Q108.918 1078.25 110.955 1078.25 Q116.325 1078.25 119.52 1080.94 Q122.714 1083.62 122.714 1088.11 Q122.714 1090.24 121.904 1092.16 Q121.117 1094.06 119.01 1096.66 Q118.432 1097.33 115.33 1100.54 Q112.228 1103.74 106.58 1109.5 Z\" fill=\"#000000\" fill-rule=\"evenodd\" fill-opacity=\"1\" /><path clip-path=\"url(#clip220)\" d=\"M 0 0 M128.015 1078.88 L146.371 1078.88 L146.371 1082.81 L132.297 1082.81 L132.297 1091.29 Q133.316 1090.94 134.334 1090.78 Q135.353 1090.59 136.371 1090.59 Q142.158 1090.59 145.538 1093.76 Q148.918 1096.93 148.918 1102.35 Q148.918 1107.93 145.445 1111.03 Q141.973 1114.11 135.654 1114.11 Q133.478 1114.11 131.209 1113.74 Q128.964 1113.37 126.557 1112.63 L126.557 1107.93 Q128.64 1109.06 130.862 1109.62 Q133.084 1110.17 135.561 1110.17 Q139.566 1110.17 141.904 1108.07 Q144.242 1105.96 144.242 1102.35 Q144.242 1098.74 141.904 1096.63 Q139.566 1094.53 135.561 1094.53 Q133.686 1094.53 131.811 1094.94 Q129.959 1095.36 128.015 1096.24 L128.015 1078.88 Z\" fill=\"#000000\" fill-rule=\"evenodd\" fill-opacity=\"1\" /><path clip-path=\"url(#clip220)\" d=\"M 0 0 M66.0245 759.945 L73.6634 759.945 L73.6634 733.579 L65.3532 735.246 L65.3532 730.987 L73.6171 729.32 L78.293 729.32 L78.293 759.945 L85.9318 759.945 L85.9318 763.88 L66.0245 763.88 L66.0245 759.945 Z\" fill=\"#000000\" fill-rule=\"evenodd\" fill-opacity=\"1\" /><path clip-path=\"url(#clip220)\" d=\"M 0 0 M91.0012 758.001 L95.8855 758.001 L95.8855 763.88 L91.0012 763.88 L91.0012 758.001 Z\" fill=\"#000000\" fill-rule=\"evenodd\" fill-opacity=\"1\" /><path clip-path=\"url(#clip220)\" d=\"M 0 0 M101.001 729.32 L119.358 729.32 L119.358 733.255 L105.284 733.255 L105.284 741.727 Q106.302 741.38 107.321 741.218 Q108.339 741.033 109.358 741.033 Q115.145 741.033 118.524 744.204 Q121.904 747.376 121.904 752.792 Q121.904 758.371 118.432 761.473 Q114.959 764.551 108.64 764.551 Q106.464 764.551 104.196 764.181 Q101.95 763.811 99.5429 763.07 L99.5429 758.371 Q101.626 759.505 103.848 760.061 Q106.071 760.616 108.547 760.616 Q112.552 760.616 114.89 758.51 Q117.228 756.403 117.228 752.792 Q117.228 749.181 114.89 747.075 Q112.552 744.968 108.547 744.968 Q106.672 744.968 104.797 745.385 Q102.946 745.801 101.001 746.681 L101.001 729.32 Z\" fill=\"#000000\" fill-rule=\"evenodd\" fill-opacity=\"1\" /><path clip-path=\"url(#clip220)\" d=\"M 0 0 M136.973 732.399 Q133.362 732.399 131.533 735.964 Q129.728 739.505 129.728 746.635 Q129.728 753.741 131.533 757.306 Q133.362 760.848 136.973 760.848 Q140.607 760.848 142.413 757.306 Q144.242 753.741 144.242 746.635 Q144.242 739.505 142.413 735.964 Q140.607 732.399 136.973 732.399 M136.973 728.695 Q142.783 728.695 145.839 733.302 Q148.918 737.885 148.918 746.635 Q148.918 755.362 145.839 759.968 Q142.783 764.551 136.973 764.551 Q131.163 764.551 128.084 759.968 Q125.029 755.362 125.029 746.635 Q125.029 737.885 128.084 733.302 Q131.163 728.695 136.973 728.695 Z\" fill=\"#000000\" fill-rule=\"evenodd\" fill-opacity=\"1\" /><path clip-path=\"url(#clip220)\" d=\"M 0 0 M66.9273 410.387 L74.5661 410.387 L74.5661 384.022 L66.256 385.688 L66.256 381.429 L74.5198 379.762 L79.1957 379.762 L79.1957 410.387 L86.8346 410.387 L86.8346 414.322 L66.9273 414.322 L66.9273 410.387 Z\" fill=\"#000000\" fill-rule=\"evenodd\" fill-opacity=\"1\" /><path clip-path=\"url(#clip220)\" d=\"M 0 0 M91.904 408.443 L96.7882 408.443 L96.7882 414.322 L91.904 414.322 L91.904 408.443 Z\" fill=\"#000000\" fill-rule=\"evenodd\" fill-opacity=\"1\" /><path clip-path=\"url(#clip220)\" d=\"M 0 0 M100.677 379.762 L122.899 379.762 L122.899 381.753 L110.353 414.322 L105.469 414.322 L117.274 383.697 L100.677 383.697 L100.677 379.762 Z\" fill=\"#000000\" fill-rule=\"evenodd\" fill-opacity=\"1\" /><path clip-path=\"url(#clip220)\" d=\"M 0 0 M128.015 379.762 L146.371 379.762 L146.371 383.697 L132.297 383.697 L132.297 392.17 Q133.316 391.822 134.334 391.66 Q135.353 391.475 136.371 391.475 Q142.158 391.475 145.538 394.646 Q148.918 397.818 148.918 403.234 Q148.918 408.813 145.445 411.915 Q141.973 414.994 135.654 414.994 Q133.478 414.994 131.209 414.623 Q128.964 414.253 126.557 413.512 L126.557 408.813 Q128.64 409.947 130.862 410.503 Q133.084 411.058 135.561 411.058 Q139.566 411.058 141.904 408.952 Q144.242 406.845 144.242 403.234 Q144.242 399.623 141.904 397.517 Q139.566 395.41 135.561 395.41 Q133.686 395.41 131.811 395.827 Q129.959 396.244 128.015 397.123 L128.015 379.762 Z\" fill=\"#000000\" fill-rule=\"evenodd\" fill-opacity=\"1\" /><path clip-path=\"url(#clip220)\" d=\"M 0 0 M68.6171 60.8294 L84.9365 60.8294 L84.9365 64.7645 L62.9921 64.7645 L62.9921 60.8294 Q65.6541 58.0747 70.2375 53.4451 Q74.8439 48.7924 76.0245 47.4498 Q78.2698 44.9267 79.1494 43.1906 Q80.0522 41.4313 80.0522 39.7415 Q80.0522 36.9869 78.1078 35.2508 Q76.1865 33.5147 73.0847 33.5147 Q70.8856 33.5147 68.4319 34.2786 Q66.0014 35.0425 63.2236 36.5934 L63.2236 31.8712 Q66.0477 30.7369 68.5014 30.1582 Q70.955 29.5795 72.9921 29.5795 Q78.3624 29.5795 81.5568 32.2647 Q84.7513 34.9499 84.7513 39.4406 Q84.7513 41.5702 83.9411 43.4915 Q83.1541 45.3896 81.0476 47.9822 Q80.4689 48.6535 77.367 51.8711 Q74.2652 55.0655 68.6171 60.8294 Z\" fill=\"#000000\" fill-rule=\"evenodd\" fill-opacity=\"1\" /><path clip-path=\"url(#clip220)\" d=\"M 0 0 M90.0059 58.8849 L94.8901 58.8849 L94.8901 64.7645 L90.0059 64.7645 L90.0059 58.8849 Z\" fill=\"#000000\" fill-rule=\"evenodd\" fill-opacity=\"1\" /><path clip-path=\"url(#clip220)\" d=\"M 0 0 M109.959 33.2832 Q106.348 33.2832 104.52 36.848 Q102.714 40.3896 102.714 47.5192 Q102.714 54.6257 104.52 58.1905 Q106.348 61.7321 109.959 61.7321 Q113.594 61.7321 115.399 58.1905 Q117.228 54.6257 117.228 47.5192 Q117.228 40.3896 115.399 36.848 Q113.594 33.2832 109.959 33.2832 M109.959 29.5795 Q115.77 29.5795 118.825 34.186 Q121.904 38.7693 121.904 47.5192 Q121.904 56.246 118.825 60.8525 Q115.77 65.4358 109.959 65.4358 Q104.149 65.4358 101.071 60.8525 Q98.0151 56.246 98.0151 47.5192 Q98.0151 38.7693 101.071 34.186 Q104.149 29.5795 109.959 29.5795 Z\" fill=\"#000000\" fill-rule=\"evenodd\" fill-opacity=\"1\" /><path clip-path=\"url(#clip220)\" d=\"M 0 0 M136.973 33.2832 Q133.362 33.2832 131.533 36.848 Q129.728 40.3896 129.728 47.5192 Q129.728 54.6257 131.533 58.1905 Q133.362 61.7321 136.973 61.7321 Q140.607 61.7321 142.413 58.1905 Q144.242 54.6257 144.242 47.5192 Q144.242 40.3896 142.413 36.848 Q140.607 33.2832 136.973 33.2832 M136.973 29.5795 Q142.783 29.5795 145.839 34.186 Q148.918 38.7693 148.918 47.5192 Q148.918 56.246 145.839 60.8525 Q142.783 65.4358 136.973 65.4358 Q131.163 65.4358 128.084 60.8525 Q125.029 56.246 125.029 47.5192 Q125.029 38.7693 128.084 34.186 Q131.163 29.5795 136.973 29.5795 Z\" fill=\"#000000\" fill-rule=\"evenodd\" fill-opacity=\"1\" /><polyline clip-path=\"url(#clip222)\" style=\"stroke:#009af9; stroke-width:4; stroke-opacity:1; fill:none\" points=\"\n",
       "  234.611,1445.72 286.022,1445.72 337.434,1445.72 388.845,1445.72 440.256,1445.72 491.668,1445.72 543.079,1445.72 594.49,1445.72 645.901,1445.72 697.313,1445.72 \n",
       "  748.724,1445.72 800.135,1445.71 851.547,1445.7 902.958,1445.61 954.369,1445.08 1005.78,1442.87 1057.19,1435.49 1108.6,1415.45 1160.01,1370.38 1211.43,1285.25 \n",
       "  1262.84,1149.04 1314.25,963.299 1365.66,746.601 1417.07,529.914 1468.48,344.268 1519.89,208.584 1571.3,125.666 1622.72,87.9763 1674.13,87.9763 1725.54,125.666 \n",
       "  1776.95,208.584 1828.36,344.268 1879.77,529.914 1931.18,746.601 1982.59,963.299 2034.01,1149.04 2085.42,1285.25 2136.83,1370.38 2188.24,1415.45 2239.65,1435.49 \n",
       "  2291.06,1442.87 \n",
       "  \"/>\n",
       "<path clip-path=\"url(#clip220)\" d=\"\n",
       "M1989.74 251.724 L2280.76 251.724 L2280.76 130.764 L1989.74 130.764  Z\n",
       "  \" fill=\"#ffffff\" fill-rule=\"evenodd\" fill-opacity=\"1\"/>\n",
       "<polyline clip-path=\"url(#clip220)\" style=\"stroke:#000000; stroke-width:4; stroke-opacity:1; fill:none\" points=\"\n",
       "  1989.74,251.724 2280.76,251.724 2280.76,130.764 1989.74,130.764 1989.74,251.724 \n",
       "  \"/>\n",
       "<polyline clip-path=\"url(#clip220)\" style=\"stroke:#009af9; stroke-width:4; stroke-opacity:1; fill:none\" points=\"\n",
       "  2013.74,191.244 2157.74,191.244 \n",
       "  \"/>\n",
       "<path clip-path=\"url(#clip220)\" d=\"M 0 0 M2195.58 210.931 Q2193.77 215.561 2192.06 216.973 Q2190.35 218.385 2187.48 218.385 L2184.08 218.385 L2184.08 214.82 L2186.58 214.82 Q2188.33 214.82 2189.31 213.987 Q2190.28 213.154 2191.46 210.052 L2192.22 208.107 L2181.74 182.598 L2186.25 182.598 L2194.35 202.876 L2202.46 182.598 L2206.97 182.598 L2195.58 210.931 Z\" fill=\"#000000\" fill-rule=\"evenodd\" fill-opacity=\"1\" /><path clip-path=\"url(#clip220)\" d=\"M 0 0 M2212.85 204.589 L2220.49 204.589 L2220.49 178.223 L2212.18 179.89 L2212.18 175.631 L2220.44 173.964 L2225.12 173.964 L2225.12 204.589 L2232.76 204.589 L2232.76 208.524 L2212.85 208.524 L2212.85 204.589 Z\" fill=\"#000000\" fill-rule=\"evenodd\" fill-opacity=\"1\" /></svg>\n"
      ]
     },
     "execution_count": 209,
     "metadata": {},
     "output_type": "execute_result"
    }
   ],
   "source": [
    "plot(range(0, stop=2, length=nx), u)"
   ]
  },
  {
   "cell_type": "markdown",
   "metadata": {
    "collapsed": false
   },
   "source": [
    "OK! So our hat function has definitely moved to the right, but it's no longer a hat.  **What's going on?**"
   ]
  },
  {
   "cell_type": "markdown",
   "metadata": {
    "collapsed": false
   },
   "source": [
    "Learn More\n",
    "-----\n",
    "***\n",
    "For a more thorough explanation of the finite-difference method, including topics like the truncation error, order of convergence and other details, watch **Video Lessons [2](https://youtube.com/watch?v=iz22_37mMkk) and [3](https://youtube.com/watch?v=xq9YTcv-fQg)** by Prof. Barba on YouTube."
   ]
  }
 ],
 "metadata": {
  "kernelspec": {
   "argv": [
    "/usr/bin/julia",
    "-i",
    "--color=yes",
    "--project=@.",
    "/home/buddhilw/.julia/packages/IJulia/e8kqU/src/kernel.jl",
    "{connection_file}"
   ],
   "display_name": "Julia 1.6.1",
   "env": null,
   "interrupt_mode": "signal",
   "language": "julia",
   "metadata": null,
   "name": "julia-1.6"
  },
  "language_info": {
   "file_extension": ".jl",
   "mimetype": "application/julia",
   "name": "julia",
   "version": "1.4.1"
  },
  "name": "01_Step_1.ipynb"
 },
 "nbformat": 4,
 "nbformat_minor": 4
}
