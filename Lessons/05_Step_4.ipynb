{
 "cells": [
  {
   "cell_type": "raw",
   "metadata": {},
   "source": [
    "Text provided under a Creative Commons Attribution license, CC-BY, Copyright (c) 2020, Cysor.  All code is made available under the FSF-approved BSD-3 license. Adapted from CFDPython Copyright (c) Barba group - https://github.com/barbagroup/CFDPython"
   ]
  },
  {
   "cell_type": "markdown",
   "metadata": {},
   "source": [
    "12 steps to Navier–Stokes\n",
    "=====\n",
    "***"
   ]
  },
  {
   "cell_type": "markdown",
   "metadata": {},
   "source": [
    "We continue our journey to solve the Navier–Stokes equation with Step 4. But don't continue unless you have completed the previous steps! In fact, this next step will be a combination of the two previous ones. The wonders of *code reuse*!"
   ]
  },
  {
   "cell_type": "markdown",
   "metadata": {},
   "source": [
    "Step 4: Burgers' Equation\n",
    "----\n",
    "***"
   ]
  },
  {
   "cell_type": "markdown",
   "metadata": {},
   "source": [
    "You can read about Burgers' Equation on its [wikipedia page](http://en.wikipedia.org/wiki/Burgers'_equation).\n",
    "\n",
    "Burgers' equation in one spatial dimension looks like this:\n",
    "\n",
    "$$\\frac{\\partial u}{\\partial t} + u \\frac{\\partial u}{\\partial x} = \\nu \\frac{\\partial ^2u}{\\partial x^2}$$\n",
    "\n",
    "As you can see, it is a combination of non-linear convection and diffusion. It is surprising how much you learn from this neat little equation! \n",
    "\n",
    "We can discretize it using the methods we've already detailed in Steps [1](./01_Step_1.ipynb) to [3](./04_Step_3.ipynb).  Using forward difference for time, backward difference for space and our 2nd-order method for the second derivatives yields:\n",
    "\n",
    "$$\\frac{u_i^{n+1}-u_i^n}{\\Delta t} + u_i^n \\frac{u_i^n - u_{i-1}^n}{\\Delta x} = \\nu \\frac{u_{i+1}^n - 2u_i^n + u_{i-1}^n}{\\Delta x^2}$$\n",
    "\n",
    "As before, once we have an initial condition, the only unknown is $u_i^{n+1}$. We will step in time as follows:\n",
    "\n",
    "$$u_i^{n+1} = u_i^n - u_i^n \\frac{\\Delta t}{\\Delta x} (u_i^n - u_{i-1}^n) + \\nu \\frac{\\Delta t}{\\Delta x^2}(u_{i+1}^n - 2u_i^n + u_{i-1}^n)$$"
   ]
  },
  {
   "cell_type": "markdown",
   "metadata": {},
   "source": [
    "### Initial and Boundary Conditions\n",
    "\n",
    "To examine some interesting properties of Burgers' equation, it is helpful to use different initial and boundary conditions than we've been using for previous steps.  \n",
    "\n",
    "Our initial condition for this problem is going to be:\n",
    "\n",
    "\\begin{eqnarray}\n",
    "u &=& -\\frac{2 \\nu}{\\phi} \\frac{\\partial \\phi}{\\partial x} + 4 \\\\\\\n",
    "\\phi &=& \\exp \\bigg(\\frac{-x^2}{4 \\nu} \\bigg) + \\exp \\bigg(\\frac{-(x-2 \\pi)^2}{4 \\nu} \\bigg)\n",
    "\\end{eqnarray}\n",
    "\n",
    "This has an analytical solution, given by:\n",
    "\n",
    "\\begin{eqnarray}\n",
    "u &=& -\\frac{2 \\nu}{\\phi} \\frac{\\partial \\phi}{\\partial x} + 4 \\\\\\\n",
    "\\phi &=& \\exp \\bigg(\\frac{-(x-4t)^2}{4 \\nu (t+1)} \\bigg) + \\exp \\bigg(\\frac{-(x-4t -2 \\pi)^2}{4 \\nu(t+1)} \\bigg)\n",
    "\\end{eqnarray}\n",
    "\n",
    "Our boundary condition will be:\n",
    "\n",
    "$$u(0) = u(2\\pi)$$\n",
    "\n",
    "This is called a *periodic* boundary condition. Pay attention! This will cause you a bit of headache if you don't tread carefully."
   ]
  },
  {
   "cell_type": "markdown",
   "metadata": {},
   "source": [
    "### Saving Time with Reduce.jl\n",
    "\n",
    "\n",
    "The initial condition we're using for Burgers' Equation can be a bit of a pain to evaluate by hand.  The derivative $\\frac{\\partial \\phi}{\\partial x}$ isn't too terribly difficult, but it would be easy to drop a sign or forget a factor of $x$ somewhere, so we're going to use SymPy to help us out.  \n",
    "\n",
    "[REDUCE](http://www.reduce-algebra.com/) is a system for general algebraic computations of interest to mathematicians, scientists and engineers. \n",
    "\n",
    "It has a lot of the same symbolic math functionality as Mathematica with the added benefit that we can easily translate its results back into our Python calculations (it is also free and open source). \n",
    "\n",
    "Start by loading the Reduce library."
   ]
  },
  {
   "cell_type": "code",
   "execution_count": 14,
   "metadata": {},
   "outputs": [],
   "source": [
    "using Reduce"
   ]
  },
  {
   "cell_type": "markdown",
   "metadata": {},
   "source": [
    "Start by setting up symbolic variables for the three variables in our initial condition and then type out the full equation for $\\phi$.  We should get a nicely rendered version of our $\\phi$ equation. It's maybe a little small, but that looks right.  Now to evaluate our partial derivative $\\frac{\\partial \\phi}{\\partial x}$ is a trivial task. "
   ]
  },
  {
   "cell_type": "code",
   "execution_count": 15,
   "metadata": {},
   "outputs": [
    {
     "data": {
      "text/plain": [
       ":(df(exp(-((x - 4t) ^ 2) / ((4ν) * (t + 1))) + exp(-(((x - 4t) - 2PI) ^ 2) / ((4ν) * (t + 1))), x))"
      ]
     },
     "execution_count": 15,
     "metadata": {},
     "output_type": "execute_result"
    }
   ],
   "source": [
    "ϕ  = :(exp( -(x-4t)^2 / (4ν*(t+1)) ) + exp( -(x-4t-2*PI)^2 / (4ν*(t+1)) ))\n",
    "ϕ′ = :(df($ϕ, x))"
   ]
  },
  {
   "cell_type": "markdown",
   "metadata": {},
   "source": [
    "If you want to see the result, simply pass the Julia expression to REDUCE via rcall and print the result."
   ]
  },
  {
   "cell_type": "code",
   "execution_count": 16,
   "metadata": {},
   "outputs": [
    {
     "name": "stdout",
     "output_type": "stream",
     "text": [
      "(((4 * ℯ ^ (((4t - x) + 2π) ^ 2 / (4 * (t + 1) * ν)) * t - ℯ ^ (((4t - x) + 2π) ^ 2 / (4 * (t + 1) * ν)) * x) + 2 * ℯ ^ ((4t - x) ^ 2 / (4 * (t + 1) * ν)) * π + 4 * ℯ ^ ((4t - x) ^ 2 / (4 * (t + 1) * ν)) * t) - ℯ ^ ((4t - x) ^ 2 / (4 * (t + 1) * ν)) * x) / (2 * ℯ ^ ((((4t - x) + 2π) ^ 2 + (4t - x) ^ 2) / (4 * (t + 1) * ν)) * (t + 1) * ν)"
     ]
    }
   ],
   "source": [
    "print(rcall(ϕ′))"
   ]
  },
  {
   "cell_type": "markdown",
   "metadata": {},
   "source": [
    "### Now what?\n",
    "Now that we have our derivative, we can finish writing out the full initial condition equation and then translate it into a usable Julia function."
   ]
  },
  {
   "cell_type": "code",
   "execution_count": 17,
   "metadata": {},
   "outputs": [
    {
     "data": {
      "text/plain": [
       ":(-2 * ν * (df(exp(-((x - 4t) ^ 2) / ((4ν) * (t + 1))) + exp(-(((x - 4t) - 2PI) ^ 2) / ((4ν) * (t + 1))), x) / (exp(-((x - 4t) ^ 2) / ((4ν) * (t + 1))) + exp(-(((x - 4t) - 2PI) ^ 2) / ((4ν) * (t + 1))))) + 4)"
      ]
     },
     "execution_count": 17,
     "metadata": {},
     "output_type": "execute_result"
    }
   ],
   "source": [
    "u  = :(-2 * ν * ($ϕ′/$ϕ) + 4)"
   ]
  },
  {
   "cell_type": "markdown",
   "metadata": {},
   "source": [
    "### Lambdify\n",
    "\n",
    "To lambdify this expression into a useable function it must first be passed to, and evaluated by REDUCE via rcall. An anonymous/lambda function can then be created to map the unknowns in the expression of u, to the value of u when evaluated with those unknowns."
   ]
  },
  {
   "cell_type": "code",
   "execution_count": 18,
   "metadata": {},
   "outputs": [
    {
     "data": {
      "text/plain": [
       "3.49170664206445"
      ]
     },
     "execution_count": 18,
     "metadata": {},
     "output_type": "execute_result"
    }
   ],
   "source": [
    "u = rcall(u)\n",
    "ufunc = @eval (t,x,ν) -> $u\n",
    "ufunc(1, 4, 3)"
   ]
  },
  {
   "cell_type": "markdown",
   "metadata": {},
   "source": [
    "### Back to Burgers' Equation\n",
    "\n",
    "Now that we have the initial conditions set up, we can proceed and finish setting up the problem.  We can generate the plot of the initial condition using our lambda/anonymous function."
   ]
  },
  {
   "cell_type": "code",
   "execution_count": 77,
   "metadata": {},
   "outputs": [
    {
     "name": "stderr",
     "output_type": "stream",
     "text": [
      "WARNING: redefining constant ν\n",
      "WARNING: redefining constant Δt\n"
     ]
    },
    {
     "data": {
      "text/plain": [
       "101-element Array{Float64,1}:\n",
       " 4.0\n",
       " 4.0628318530717955\n",
       " 4.125663706143592\n",
       " 4.188495559215388\n",
       " 4.251327412287183\n",
       " 4.314159265358979\n",
       " 4.376991118430775\n",
       " 4.439822971502571\n",
       " 4.502654824574367\n",
       " 4.565486677646162\n",
       " 4.628318530717959\n",
       " 4.691150383789754\n",
       " 4.7539822368615505\n",
       " ⋮\n",
       " 3.3088496162102454\n",
       " 3.3716814692820414\n",
       " 3.434513322353837\n",
       " 3.497345175425633\n",
       " 3.560177028497429\n",
       " 3.623008881569225\n",
       " 3.6858407346410202\n",
       " 3.748672587712816\n",
       " 3.8115044407846126\n",
       " 3.874336293856408\n",
       " 3.937168146928205\n",
       " 4.0"
      ]
     },
     "execution_count": 77,
     "metadata": {},
     "output_type": "execute_result"
    }
   ],
   "source": [
    "using Plots\n",
    "\n",
    "# Equation Constants\n",
    "ν = 0.07\n",
    "t₀ = 0\n",
    "\n",
    "# Spatial \n",
    "nx = 101\n",
    "Δx = 2π/(nx-1)\n",
    "x = range(0, stop=2*π, length=nx)\n",
    "\n",
    "# Time\n",
    "nt = 100 \n",
    "Δt = Δx*ν\n",
    "\n",
    "# Inital Conditions\n",
    "u₀ = [ufunc(t₀,x₀,ν) for x₀ in x]"
   ]
  },
  {
   "cell_type": "code",
   "execution_count": 33,
   "metadata": {},
   "outputs": [
    {
     "data": {
      "image/svg+xml": [
       "<?xml version=\"1.0\" encoding=\"utf-8\"?>\n",
       "<svg xmlns=\"http://www.w3.org/2000/svg\" xmlns:xlink=\"http://www.w3.org/1999/xlink\" width=\"600\" height=\"400\" viewBox=\"0 0 2400 1600\">\n",
       "<defs>\n",
       "  <clipPath id=\"clip560\">\n",
       "    <rect x=\"0\" y=\"0\" width=\"2400\" height=\"1600\"/>\n",
       "  </clipPath>\n",
       "</defs>\n",
       "<path clip-path=\"url(#clip560)\" d=\"\n",
       "M0 1600 L2400 1600 L2400 0 L0 0  Z\n",
       "  \" fill=\"#ffffff\" fill-rule=\"evenodd\" fill-opacity=\"1\"/>\n",
       "<defs>\n",
       "  <clipPath id=\"clip561\">\n",
       "    <rect x=\"480\" y=\"0\" width=\"1681\" height=\"1600\"/>\n",
       "  </clipPath>\n",
       "</defs>\n",
       "<path clip-path=\"url(#clip560)\" d=\"\n",
       "M112.177 1486.45 L2352.76 1486.45 L2352.76 47.2441 L112.177 47.2441  Z\n",
       "  \" fill=\"#ffffff\" fill-rule=\"evenodd\" fill-opacity=\"1\"/>\n",
       "<defs>\n",
       "  <clipPath id=\"clip562\">\n",
       "    <rect x=\"112\" y=\"47\" width=\"2242\" height=\"1440\"/>\n",
       "  </clipPath>\n",
       "</defs>\n",
       "<polyline clip-path=\"url(#clip562)\" style=\"stroke:#000000; stroke-width:2; stroke-opacity:0.1; fill:none\" points=\"\n",
       "  175.59,1486.45 175.59,47.2441 \n",
       "  \"/>\n",
       "<polyline clip-path=\"url(#clip562)\" style=\"stroke:#000000; stroke-width:2; stroke-opacity:0.1; fill:none\" points=\"\n",
       "  512.004,1486.45 512.004,47.2441 \n",
       "  \"/>\n",
       "<polyline clip-path=\"url(#clip562)\" style=\"stroke:#000000; stroke-width:2; stroke-opacity:0.1; fill:none\" points=\"\n",
       "  848.418,1486.45 848.418,47.2441 \n",
       "  \"/>\n",
       "<polyline clip-path=\"url(#clip562)\" style=\"stroke:#000000; stroke-width:2; stroke-opacity:0.1; fill:none\" points=\"\n",
       "  1184.83,1486.45 1184.83,47.2441 \n",
       "  \"/>\n",
       "<polyline clip-path=\"url(#clip562)\" style=\"stroke:#000000; stroke-width:2; stroke-opacity:0.1; fill:none\" points=\"\n",
       "  1521.25,1486.45 1521.25,47.2441 \n",
       "  \"/>\n",
       "<polyline clip-path=\"url(#clip562)\" style=\"stroke:#000000; stroke-width:2; stroke-opacity:0.1; fill:none\" points=\"\n",
       "  1857.66,1486.45 1857.66,47.2441 \n",
       "  \"/>\n",
       "<polyline clip-path=\"url(#clip562)\" style=\"stroke:#000000; stroke-width:2; stroke-opacity:0.1; fill:none\" points=\"\n",
       "  2194.08,1486.45 2194.08,47.2441 \n",
       "  \"/>\n",
       "<polyline clip-path=\"url(#clip562)\" style=\"stroke:#000000; stroke-width:2; stroke-opacity:0.1; fill:none\" points=\"\n",
       "  112.177,1389.23 2352.76,1389.23 \n",
       "  \"/>\n",
       "<polyline clip-path=\"url(#clip562)\" style=\"stroke:#000000; stroke-width:2; stroke-opacity:0.1; fill:none\" points=\"\n",
       "  112.177,1078.04 2352.76,1078.04 \n",
       "  \"/>\n",
       "<polyline clip-path=\"url(#clip562)\" style=\"stroke:#000000; stroke-width:2; stroke-opacity:0.1; fill:none\" points=\"\n",
       "  112.177,766.846 2352.76,766.846 \n",
       "  \"/>\n",
       "<polyline clip-path=\"url(#clip562)\" style=\"stroke:#000000; stroke-width:2; stroke-opacity:0.1; fill:none\" points=\"\n",
       "  112.177,455.652 2352.76,455.652 \n",
       "  \"/>\n",
       "<polyline clip-path=\"url(#clip562)\" style=\"stroke:#000000; stroke-width:2; stroke-opacity:0.1; fill:none\" points=\"\n",
       "  112.177,144.458 2352.76,144.458 \n",
       "  \"/>\n",
       "<polyline clip-path=\"url(#clip560)\" style=\"stroke:#000000; stroke-width:4; stroke-opacity:1; fill:none\" points=\"\n",
       "  112.177,1486.45 2352.76,1486.45 \n",
       "  \"/>\n",
       "<polyline clip-path=\"url(#clip560)\" style=\"stroke:#000000; stroke-width:4; stroke-opacity:1; fill:none\" points=\"\n",
       "  112.177,1486.45 112.177,47.2441 \n",
       "  \"/>\n",
       "<polyline clip-path=\"url(#clip560)\" style=\"stroke:#000000; stroke-width:4; stroke-opacity:1; fill:none\" points=\"\n",
       "  175.59,1486.45 175.59,1469.18 \n",
       "  \"/>\n",
       "<polyline clip-path=\"url(#clip560)\" style=\"stroke:#000000; stroke-width:4; stroke-opacity:1; fill:none\" points=\"\n",
       "  512.004,1486.45 512.004,1469.18 \n",
       "  \"/>\n",
       "<polyline clip-path=\"url(#clip560)\" style=\"stroke:#000000; stroke-width:4; stroke-opacity:1; fill:none\" points=\"\n",
       "  848.418,1486.45 848.418,1469.18 \n",
       "  \"/>\n",
       "<polyline clip-path=\"url(#clip560)\" style=\"stroke:#000000; stroke-width:4; stroke-opacity:1; fill:none\" points=\"\n",
       "  1184.83,1486.45 1184.83,1469.18 \n",
       "  \"/>\n",
       "<polyline clip-path=\"url(#clip560)\" style=\"stroke:#000000; stroke-width:4; stroke-opacity:1; fill:none\" points=\"\n",
       "  1521.25,1486.45 1521.25,1469.18 \n",
       "  \"/>\n",
       "<polyline clip-path=\"url(#clip560)\" style=\"stroke:#000000; stroke-width:4; stroke-opacity:1; fill:none\" points=\"\n",
       "  1857.66,1486.45 1857.66,1469.18 \n",
       "  \"/>\n",
       "<polyline clip-path=\"url(#clip560)\" style=\"stroke:#000000; stroke-width:4; stroke-opacity:1; fill:none\" points=\"\n",
       "  2194.08,1486.45 2194.08,1469.18 \n",
       "  \"/>\n",
       "<polyline clip-path=\"url(#clip560)\" style=\"stroke:#000000; stroke-width:4; stroke-opacity:1; fill:none\" points=\"\n",
       "  112.177,1389.23 139.064,1389.23 \n",
       "  \"/>\n",
       "<polyline clip-path=\"url(#clip560)\" style=\"stroke:#000000; stroke-width:4; stroke-opacity:1; fill:none\" points=\"\n",
       "  112.177,1078.04 139.064,1078.04 \n",
       "  \"/>\n",
       "<polyline clip-path=\"url(#clip560)\" style=\"stroke:#000000; stroke-width:4; stroke-opacity:1; fill:none\" points=\"\n",
       "  112.177,766.846 139.064,766.846 \n",
       "  \"/>\n",
       "<polyline clip-path=\"url(#clip560)\" style=\"stroke:#000000; stroke-width:4; stroke-opacity:1; fill:none\" points=\"\n",
       "  112.177,455.652 139.064,455.652 \n",
       "  \"/>\n",
       "<polyline clip-path=\"url(#clip560)\" style=\"stroke:#000000; stroke-width:4; stroke-opacity:1; fill:none\" points=\"\n",
       "  112.177,144.458 139.064,144.458 \n",
       "  \"/>\n",
       "<path clip-path=\"url(#clip560)\" d=\"M 0 0 M175.59 1508.44 Q171.979 1508.44 170.15 1512 Q168.344 1515.55 168.344 1522.67 Q168.344 1529.78 170.15 1533.35 Q171.979 1536.89 175.59 1536.89 Q179.224 1536.89 181.03 1533.35 Q182.858 1529.78 182.858 1522.67 Q182.858 1515.55 181.03 1512 Q179.224 1508.44 175.59 1508.44 M175.59 1504.73 Q181.4 1504.73 184.455 1509.34 Q187.534 1513.92 187.534 1522.67 Q187.534 1531.4 184.455 1536.01 Q181.4 1540.59 175.59 1540.59 Q169.78 1540.59 166.701 1536.01 Q163.645 1531.4 163.645 1522.67 Q163.645 1513.92 166.701 1509.34 Q169.78 1504.73 175.59 1504.73 Z\" fill=\"#000000\" fill-rule=\"evenodd\" fill-opacity=\"1\" /><path clip-path=\"url(#clip560)\" d=\"M 0 0 M502.386 1535.98 L510.025 1535.98 L510.025 1509.62 L501.715 1511.29 L501.715 1507.03 L509.979 1505.36 L514.655 1505.36 L514.655 1535.98 L522.293 1535.98 L522.293 1539.92 L502.386 1539.92 L502.386 1535.98 Z\" fill=\"#000000\" fill-rule=\"evenodd\" fill-opacity=\"1\" /><path clip-path=\"url(#clip560)\" d=\"M 0 0 M843.071 1535.98 L859.391 1535.98 L859.391 1539.92 L837.446 1539.92 L837.446 1535.98 Q840.108 1533.23 844.692 1528.6 Q849.298 1523.95 850.479 1522.61 Q852.724 1520.08 853.604 1518.35 Q854.506 1516.59 854.506 1514.9 Q854.506 1512.14 852.562 1510.41 Q850.641 1508.67 847.539 1508.67 Q845.34 1508.67 842.886 1509.43 Q840.456 1510.2 837.678 1511.75 L837.678 1507.03 Q840.502 1505.89 842.955 1505.31 Q845.409 1504.73 847.446 1504.73 Q852.817 1504.73 856.011 1507.42 Q859.205 1510.11 859.205 1514.6 Q859.205 1516.73 858.395 1518.65 Q857.608 1520.54 855.502 1523.14 Q854.923 1523.81 851.821 1527.03 Q848.719 1530.22 843.071 1535.98 Z\" fill=\"#000000\" fill-rule=\"evenodd\" fill-opacity=\"1\" /><path clip-path=\"url(#clip560)\" d=\"M 0 0 M1189.08 1521.29 Q1192.44 1522 1194.31 1524.27 Q1196.21 1526.54 1196.21 1529.87 Q1196.21 1534.99 1192.69 1537.79 Q1189.17 1540.59 1182.69 1540.59 Q1180.52 1540.59 1178.2 1540.15 Q1175.91 1539.73 1173.46 1538.88 L1173.46 1534.36 Q1175.4 1535.5 1177.71 1536.08 Q1180.03 1536.66 1182.55 1536.66 Q1186.95 1536.66 1189.24 1534.92 Q1191.56 1533.18 1191.56 1529.87 Q1191.56 1526.82 1189.4 1525.11 Q1187.27 1523.37 1183.46 1523.37 L1179.43 1523.37 L1179.43 1519.53 L1183.64 1519.53 Q1187.09 1519.53 1188.92 1518.16 Q1190.75 1516.77 1190.75 1514.18 Q1190.75 1511.52 1188.85 1510.11 Q1186.97 1508.67 1183.46 1508.67 Q1181.53 1508.67 1179.34 1509.09 Q1177.14 1509.5 1174.5 1510.38 L1174.5 1506.22 Q1177.16 1505.48 1179.47 1505.11 Q1181.81 1504.73 1183.87 1504.73 Q1189.2 1504.73 1192.3 1507.17 Q1195.4 1509.57 1195.4 1513.69 Q1195.4 1516.56 1193.76 1518.55 Q1192.11 1520.52 1189.08 1521.29 Z\" fill=\"#000000\" fill-rule=\"evenodd\" fill-opacity=\"1\" /><path clip-path=\"url(#clip560)\" d=\"M 0 0 M1524.26 1509.43 L1512.45 1527.88 L1524.26 1527.88 L1524.26 1509.43 M1523.03 1505.36 L1528.91 1505.36 L1528.91 1527.88 L1533.84 1527.88 L1533.84 1531.77 L1528.91 1531.77 L1528.91 1539.92 L1524.26 1539.92 L1524.26 1531.77 L1508.65 1531.77 L1508.65 1527.26 L1523.03 1505.36 Z\" fill=\"#000000\" fill-rule=\"evenodd\" fill-opacity=\"1\" /><path clip-path=\"url(#clip560)\" d=\"M 0 0 M1847.94 1505.36 L1866.3 1505.36 L1866.3 1509.3 L1852.22 1509.3 L1852.22 1517.77 Q1853.24 1517.42 1854.26 1517.26 Q1855.28 1517.07 1856.3 1517.07 Q1862.08 1517.07 1865.46 1520.24 Q1868.84 1523.42 1868.84 1528.83 Q1868.84 1534.41 1865.37 1537.51 Q1861.9 1540.59 1855.58 1540.59 Q1853.4 1540.59 1851.13 1540.22 Q1848.89 1539.85 1846.48 1539.11 L1846.48 1534.41 Q1848.56 1535.54 1850.79 1536.1 Q1853.01 1536.66 1855.49 1536.66 Q1859.49 1536.66 1861.83 1534.55 Q1864.17 1532.44 1864.17 1528.83 Q1864.17 1525.22 1861.83 1523.11 Q1859.49 1521.01 1855.49 1521.01 Q1853.61 1521.01 1851.74 1521.42 Q1849.88 1521.84 1847.94 1522.72 L1847.94 1505.36 Z\" fill=\"#000000\" fill-rule=\"evenodd\" fill-opacity=\"1\" /><path clip-path=\"url(#clip560)\" d=\"M 0 0 M2194.48 1520.78 Q2191.33 1520.78 2189.48 1522.93 Q2187.65 1525.08 2187.65 1528.83 Q2187.65 1532.56 2189.48 1534.73 Q2191.33 1536.89 2194.48 1536.89 Q2197.63 1536.89 2199.46 1534.73 Q2201.31 1532.56 2201.31 1528.83 Q2201.31 1525.08 2199.46 1522.93 Q2197.63 1520.78 2194.48 1520.78 M2203.76 1506.12 L2203.76 1510.38 Q2202 1509.55 2200.2 1509.11 Q2198.42 1508.67 2196.66 1508.67 Q2192.03 1508.67 2189.57 1511.8 Q2187.14 1514.92 2186.8 1521.24 Q2188.16 1519.23 2190.22 1518.16 Q2192.28 1517.07 2194.76 1517.07 Q2199.97 1517.07 2202.98 1520.24 Q2206.01 1523.39 2206.01 1528.83 Q2206.01 1534.16 2202.86 1537.37 Q2199.71 1540.59 2194.48 1540.59 Q2188.49 1540.59 2185.31 1536.01 Q2182.14 1531.4 2182.14 1522.67 Q2182.14 1514.48 2186.03 1509.62 Q2189.92 1504.73 2196.47 1504.73 Q2198.23 1504.73 2200.01 1505.08 Q2201.82 1505.43 2203.76 1506.12 Z\" fill=\"#000000\" fill-rule=\"evenodd\" fill-opacity=\"1\" /><path clip-path=\"url(#clip560)\" d=\"M 0 0 M71.8578 1402.58 L88.1772 1402.58 L88.1772 1406.51 L66.2328 1406.51 L66.2328 1402.58 Q68.8949 1399.82 73.4782 1395.19 Q78.0846 1390.54 79.2652 1389.2 Q81.5105 1386.68 82.3902 1384.94 Q83.2929 1383.18 83.2929 1381.49 Q83.2929 1378.74 81.3485 1377 Q79.4272 1375.26 76.3254 1375.26 Q74.1263 1375.26 71.6726 1376.03 Q69.2421 1376.79 66.4643 1378.34 L66.4643 1373.62 Q69.2884 1372.49 71.7421 1371.91 Q74.1958 1371.33 76.2328 1371.33 Q81.6031 1371.33 84.7976 1374.01 Q87.992 1376.7 87.992 1381.19 Q87.992 1383.32 87.1818 1385.24 Q86.3948 1387.14 84.2883 1389.73 Q83.7096 1390.4 80.6078 1393.62 Q77.5059 1396.82 71.8578 1402.58 Z\" fill=\"#000000\" fill-rule=\"evenodd\" fill-opacity=\"1\" /><path clip-path=\"url(#clip560)\" d=\"M 0 0 M81.0476 1076.69 Q84.404 1077.4 86.279 1079.67 Q88.1772 1081.94 88.1772 1085.27 Q88.1772 1090.39 84.6587 1093.19 Q81.1402 1095.99 74.6587 1095.99 Q72.4828 1095.99 70.168 1095.55 Q67.8764 1095.13 65.4227 1094.28 L65.4227 1089.76 Q67.3671 1090.9 69.6819 1091.48 Q71.9967 1092.06 74.5198 1092.06 Q78.918 1092.06 81.2096 1090.32 Q83.5244 1088.58 83.5244 1085.27 Q83.5244 1082.22 81.3717 1080.51 Q79.242 1078.77 75.4226 1078.77 L71.3949 1078.77 L71.3949 1074.93 L75.6078 1074.93 Q79.0569 1074.93 80.8855 1073.56 Q82.7142 1072.17 82.7142 1069.58 Q82.7142 1066.92 80.8161 1065.51 Q78.9411 1064.07 75.4226 1064.07 Q73.5013 1064.07 71.3023 1064.49 Q69.1032 1064.9 66.4643 1065.78 L66.4643 1061.62 Q69.1264 1060.88 71.4412 1060.51 Q73.7791 1060.14 75.8393 1060.14 Q81.1633 1060.14 84.2652 1062.57 Q87.367 1064.97 87.367 1069.09 Q87.367 1071.96 85.7235 1073.95 Q84.08 1075.92 81.0476 1076.69 Z\" fill=\"#000000\" fill-rule=\"evenodd\" fill-opacity=\"1\" /><path clip-path=\"url(#clip560)\" d=\"M 0 0 M78.5939 753.64 L66.7884 772.089 L78.5939 772.089 L78.5939 753.64 M77.367 749.566 L83.2466 749.566 L83.2466 772.089 L88.1772 772.089 L88.1772 775.978 L83.2466 775.978 L83.2466 784.126 L78.5939 784.126 L78.5939 775.978 L62.9921 775.978 L62.9921 771.464 L77.367 749.566 Z\" fill=\"#000000\" fill-rule=\"evenodd\" fill-opacity=\"1\" /><path clip-path=\"url(#clip560)\" d=\"M 0 0 M67.2745 438.372 L85.6309 438.372 L85.6309 442.307 L71.5569 442.307 L71.5569 450.779 Q72.5754 450.432 73.5939 450.27 Q74.6124 450.085 75.6309 450.085 Q81.418 450.085 84.7976 453.256 Q88.1772 456.427 88.1772 461.844 Q88.1772 467.423 84.705 470.525 Q81.2328 473.603 74.9134 473.603 Q72.7374 473.603 70.4689 473.233 Q68.2236 472.862 65.8162 472.122 L65.8162 467.423 Q67.8995 468.557 70.1217 469.112 Q72.3439 469.668 74.8208 469.668 Q78.8254 469.668 81.1633 467.562 Q83.5013 465.455 83.5013 461.844 Q83.5013 458.233 81.1633 456.126 Q78.8254 454.02 74.8208 454.02 Q72.9458 454.02 71.0708 454.437 Q69.2189 454.853 67.2745 455.733 L67.2745 438.372 Z\" fill=\"#000000\" fill-rule=\"evenodd\" fill-opacity=\"1\" /><path clip-path=\"url(#clip560)\" d=\"M 0 0 M76.6495 142.594 Q73.5013 142.594 71.6495 144.747 Q69.8208 146.9 69.8208 150.65 Q69.8208 154.377 71.6495 156.553 Q73.5013 158.705 76.6495 158.705 Q79.7976 158.705 81.6263 156.553 Q83.4781 154.377 83.4781 150.65 Q83.4781 146.9 81.6263 144.747 Q79.7976 142.594 76.6495 142.594 M85.9318 127.942 L85.9318 132.201 Q84.1726 131.368 82.367 130.928 Q80.5846 130.488 78.8254 130.488 Q74.1958 130.488 71.7421 133.613 Q69.3115 136.738 68.9643 143.057 Q70.33 141.044 72.3902 139.979 Q74.4504 138.891 76.9272 138.891 Q82.1355 138.891 85.1448 142.062 Q88.1772 145.21 88.1772 150.65 Q88.1772 155.974 85.029 159.192 Q81.8809 162.409 76.6495 162.409 Q70.6541 162.409 67.4828 157.826 Q64.3116 153.219 64.3116 144.493 Q64.3116 136.298 68.2004 131.437 Q72.0893 126.553 78.6402 126.553 Q80.3994 126.553 82.1818 126.9 Q83.9874 127.247 85.9318 127.942 Z\" fill=\"#000000\" fill-rule=\"evenodd\" fill-opacity=\"1\" /><polyline clip-path=\"url(#clip562)\" style=\"stroke:#009af9; stroke-width:4; stroke-opacity:1; fill:none\" points=\"\n",
       "  175.59,766.847 196.727,747.295 217.865,727.743 239.002,708.191 260.14,688.639 281.277,669.088 302.415,649.537 323.553,629.986 344.69,610.437 365.828,590.889 \n",
       "  386.965,571.342 408.103,551.797 429.24,532.255 450.378,512.716 471.515,493.182 492.653,473.654 513.79,454.134 534.928,434.624 556.065,415.129 577.203,395.653 \n",
       "  598.34,376.202 619.478,356.784 640.616,337.41 661.753,318.094 682.891,298.855 704.028,279.719 725.166,260.717 746.303,241.895 767.441,223.31 788.578,205.039 \n",
       "  809.716,187.183 830.853,169.875 851.991,153.29 873.128,137.659 894.266,123.28 915.404,110.545 936.541,99.9572 957.679,92.1619 978.816,87.9763 999.954,88.4189 \n",
       "  1021.09,94.7325 1042.23,108.39 1063.37,131.066 1084.5,164.555 1105.64,210.609 1126.78,270.677 1147.92,345.557 1169.05,434.994 1190.19,537.349 1211.33,649.463 \n",
       "  1232.47,766.846 1253.6,884.229 1274.74,996.343 1295.88,1098.7 1317.02,1188.14 1338.15,1263.01 1359.29,1323.08 1380.43,1369.14 1401.57,1402.63 1422.7,1425.3 \n",
       "  1443.84,1438.96 1464.98,1445.27 1486.12,1445.72 1507.25,1441.53 1528.39,1433.73 1549.53,1423.15 1570.67,1410.41 1591.8,1396.03 1612.94,1380.4 1634.08,1363.82 \n",
       "  1655.22,1346.51 1676.35,1328.65 1697.49,1310.38 1718.63,1291.8 1739.77,1272.97 1760.9,1253.97 1782.04,1234.84 1803.18,1215.6 1824.32,1196.28 1845.46,1176.91 \n",
       "  1866.59,1157.49 1887.73,1138.04 1908.87,1118.56 1930.01,1099.07 1951.14,1079.56 1972.28,1060.04 1993.42,1040.51 2014.56,1020.98 2035.69,1001.44 2056.83,981.895 \n",
       "  2077.97,962.35 2099.11,942.803 2120.24,923.255 2141.38,903.706 2162.52,884.155 2183.66,864.604 2204.79,845.053 2225.93,825.501 2247.07,805.949 2268.21,786.397 \n",
       "  2289.34,766.845 \n",
       "  \"/>\n",
       "<path clip-path=\"url(#clip560)\" d=\"\n",
       "M1989.74 251.724 L2280.76 251.724 L2280.76 130.764 L1989.74 130.764  Z\n",
       "  \" fill=\"#ffffff\" fill-rule=\"evenodd\" fill-opacity=\"1\"/>\n",
       "<polyline clip-path=\"url(#clip560)\" style=\"stroke:#000000; stroke-width:4; stroke-opacity:1; fill:none\" points=\"\n",
       "  1989.74,251.724 2280.76,251.724 2280.76,130.764 1989.74,130.764 1989.74,251.724 \n",
       "  \"/>\n",
       "<polyline clip-path=\"url(#clip560)\" style=\"stroke:#009af9; stroke-width:4; stroke-opacity:1; fill:none\" points=\"\n",
       "  2013.74,191.244 2157.74,191.244 \n",
       "  \"/>\n",
       "<path clip-path=\"url(#clip560)\" d=\"M 0 0 M2195.58 210.931 Q2193.77 215.561 2192.06 216.973 Q2190.35 218.385 2187.48 218.385 L2184.08 218.385 L2184.08 214.82 L2186.58 214.82 Q2188.33 214.82 2189.31 213.987 Q2190.28 213.154 2191.46 210.052 L2192.22 208.107 L2181.74 182.598 L2186.25 182.598 L2194.35 202.876 L2202.46 182.598 L2206.97 182.598 L2195.58 210.931 Z\" fill=\"#000000\" fill-rule=\"evenodd\" fill-opacity=\"1\" /><path clip-path=\"url(#clip560)\" d=\"M 0 0 M2212.85 204.589 L2220.49 204.589 L2220.49 178.223 L2212.18 179.89 L2212.18 175.631 L2220.44 173.964 L2225.12 173.964 L2225.12 204.589 L2232.76 204.589 L2232.76 208.524 L2212.85 208.524 L2212.85 204.589 Z\" fill=\"#000000\" fill-rule=\"evenodd\" fill-opacity=\"1\" /></svg>\n"
      ]
     },
     "execution_count": 33,
     "metadata": {},
     "output_type": "execute_result"
    }
   ],
   "source": [
    "plot(x,u₀)"
   ]
  },
  {
   "cell_type": "markdown",
   "metadata": {},
   "source": [
    "This is definitely not the hat function we've been dealing with until now. We call it a \"saw-tooth function\".  Let's proceed forward and see what happens.  "
   ]
  },
  {
   "cell_type": "markdown",
   "metadata": {},
   "source": [
    "### Periodic Boundary Conditions\n",
    "\n",
    "One of the big differences between Step 4 and the previous lessons is the use of *periodic* boundary conditions.  If you experiment with Steps 1 and 2 and make the simulation run longer (by increasing `nt`) you will notice that the wave will keep moving to the right until it no longer even shows up in the plot.  \n",
    "\n",
    "With periodic boundary conditions, when a point gets to the right-hand side of the frame, it *wraps around* back to the front of the frame.  \n",
    "\n",
    "Recall the discretization that we worked out at the beginning of this notebook:\n",
    "\n",
    "$$u_i^{n+1} = u_i^n - u_i^n \\frac{\\Delta t}{\\Delta x} (u_i^n - u_{i-1}^n) + \\nu \\frac{\\Delta t}{\\Delta x^2}(u_{i+1}^n - 2u_i^n + u_{i-1}^n)$$\n",
    "\n",
    "What does $u_{i+1}^n$ *mean* when $i$ is already at the end of the frame?\n",
    "\n",
    "Think about this for a minute before proceeding.  \n",
    "\n"
   ]
  },
  {
   "cell_type": "code",
   "execution_count": 89,
   "metadata": {},
   "outputs": [
    {
     "name": "stdout",
     "output_type": "stream",
     "text": [
      "3.864759606932167"
     ]
    }
   ],
   "source": [
    "uⁿ⁺¹ = copy(u₀)\n",
    "\n",
    "for n ∈ 1:nt\n",
    "    uⁿ = copy(uⁿ⁺¹)\n",
    "    for i ∈ 2:nx-1\n",
    "        uⁿ⁺¹[i]  = uⁿ[i] - uⁿ[i]* Δt/Δx * (uⁿ[i] - uⁿ[i-1]) + ν * Δt/Δx^2 * (uⁿ[i+1] - 2*uⁿ[i] + uⁿ[i-1])\n",
    "        uⁿ⁺¹[1]  = uⁿ[1] - uⁿ[1]* Δt/Δx * (uⁿ[1] - uⁿ[end-1]) + ν * Δt/Δx^2 * (uⁿ[2] - 2*uⁿ[1] + uⁿ[end-1])\n",
    "        uⁿ⁺¹[end] = uⁿ⁺¹[1]\n",
    "    end\n",
    "end\n",
    "\n",
    "u_numerical  = uⁿ⁺¹\n",
    "u_analytical = [ufunc(nt*Δt, xᵢ, ν) for xᵢ in x];"
   ]
  },
  {
   "cell_type": "code",
   "execution_count": 80,
   "metadata": {},
   "outputs": [
    {
     "data": {
      "image/svg+xml": [
       "<?xml version=\"1.0\" encoding=\"utf-8\"?>\n",
       "<svg xmlns=\"http://www.w3.org/2000/svg\" xmlns:xlink=\"http://www.w3.org/1999/xlink\" width=\"600\" height=\"400\" viewBox=\"0 0 2400 1600\">\n",
       "<defs>\n",
       "  <clipPath id=\"clip960\">\n",
       "    <rect x=\"0\" y=\"0\" width=\"2400\" height=\"1600\"/>\n",
       "  </clipPath>\n",
       "</defs>\n",
       "<path clip-path=\"url(#clip960)\" d=\"\n",
       "M0 1600 L2400 1600 L2400 0 L0 0  Z\n",
       "  \" fill=\"#ffffff\" fill-rule=\"evenodd\" fill-opacity=\"1\"/>\n",
       "<defs>\n",
       "  <clipPath id=\"clip961\">\n",
       "    <rect x=\"480\" y=\"0\" width=\"1681\" height=\"1600\"/>\n",
       "  </clipPath>\n",
       "</defs>\n",
       "<path clip-path=\"url(#clip960)\" d=\"\n",
       "M112.177 1486.45 L2352.76 1486.45 L2352.76 47.2441 L112.177 47.2441  Z\n",
       "  \" fill=\"#ffffff\" fill-rule=\"evenodd\" fill-opacity=\"1\"/>\n",
       "<defs>\n",
       "  <clipPath id=\"clip962\">\n",
       "    <rect x=\"112\" y=\"47\" width=\"2242\" height=\"1440\"/>\n",
       "  </clipPath>\n",
       "</defs>\n",
       "<polyline clip-path=\"url(#clip962)\" style=\"stroke:#000000; stroke-width:2; stroke-opacity:0.1; fill:none\" points=\"\n",
       "  175.59,1486.45 175.59,47.2441 \n",
       "  \"/>\n",
       "<polyline clip-path=\"url(#clip962)\" style=\"stroke:#000000; stroke-width:2; stroke-opacity:0.1; fill:none\" points=\"\n",
       "  512.004,1486.45 512.004,47.2441 \n",
       "  \"/>\n",
       "<polyline clip-path=\"url(#clip962)\" style=\"stroke:#000000; stroke-width:2; stroke-opacity:0.1; fill:none\" points=\"\n",
       "  848.418,1486.45 848.418,47.2441 \n",
       "  \"/>\n",
       "<polyline clip-path=\"url(#clip962)\" style=\"stroke:#000000; stroke-width:2; stroke-opacity:0.1; fill:none\" points=\"\n",
       "  1184.83,1486.45 1184.83,47.2441 \n",
       "  \"/>\n",
       "<polyline clip-path=\"url(#clip962)\" style=\"stroke:#000000; stroke-width:2; stroke-opacity:0.1; fill:none\" points=\"\n",
       "  1521.25,1486.45 1521.25,47.2441 \n",
       "  \"/>\n",
       "<polyline clip-path=\"url(#clip962)\" style=\"stroke:#000000; stroke-width:2; stroke-opacity:0.1; fill:none\" points=\"\n",
       "  1857.66,1486.45 1857.66,47.2441 \n",
       "  \"/>\n",
       "<polyline clip-path=\"url(#clip962)\" style=\"stroke:#000000; stroke-width:2; stroke-opacity:0.1; fill:none\" points=\"\n",
       "  2194.08,1486.45 2194.08,47.2441 \n",
       "  \"/>\n",
       "<polyline clip-path=\"url(#clip962)\" style=\"stroke:#000000; stroke-width:2; stroke-opacity:0.1; fill:none\" points=\"\n",
       "  112.177,1410.9 2352.76,1410.9 \n",
       "  \"/>\n",
       "<polyline clip-path=\"url(#clip962)\" style=\"stroke:#000000; stroke-width:2; stroke-opacity:0.1; fill:none\" points=\"\n",
       "  112.177,1083.34 2352.76,1083.34 \n",
       "  \"/>\n",
       "<polyline clip-path=\"url(#clip962)\" style=\"stroke:#000000; stroke-width:2; stroke-opacity:0.1; fill:none\" points=\"\n",
       "  112.177,755.791 2352.76,755.791 \n",
       "  \"/>\n",
       "<polyline clip-path=\"url(#clip962)\" style=\"stroke:#000000; stroke-width:2; stroke-opacity:0.1; fill:none\" points=\"\n",
       "  112.177,428.237 2352.76,428.237 \n",
       "  \"/>\n",
       "<polyline clip-path=\"url(#clip962)\" style=\"stroke:#000000; stroke-width:2; stroke-opacity:0.1; fill:none\" points=\"\n",
       "  112.177,100.684 2352.76,100.684 \n",
       "  \"/>\n",
       "<polyline clip-path=\"url(#clip960)\" style=\"stroke:#000000; stroke-width:4; stroke-opacity:1; fill:none\" points=\"\n",
       "  112.177,1486.45 2352.76,1486.45 \n",
       "  \"/>\n",
       "<polyline clip-path=\"url(#clip960)\" style=\"stroke:#000000; stroke-width:4; stroke-opacity:1; fill:none\" points=\"\n",
       "  112.177,1486.45 112.177,47.2441 \n",
       "  \"/>\n",
       "<polyline clip-path=\"url(#clip960)\" style=\"stroke:#000000; stroke-width:4; stroke-opacity:1; fill:none\" points=\"\n",
       "  175.59,1486.45 175.59,1469.18 \n",
       "  \"/>\n",
       "<polyline clip-path=\"url(#clip960)\" style=\"stroke:#000000; stroke-width:4; stroke-opacity:1; fill:none\" points=\"\n",
       "  512.004,1486.45 512.004,1469.18 \n",
       "  \"/>\n",
       "<polyline clip-path=\"url(#clip960)\" style=\"stroke:#000000; stroke-width:4; stroke-opacity:1; fill:none\" points=\"\n",
       "  848.418,1486.45 848.418,1469.18 \n",
       "  \"/>\n",
       "<polyline clip-path=\"url(#clip960)\" style=\"stroke:#000000; stroke-width:4; stroke-opacity:1; fill:none\" points=\"\n",
       "  1184.83,1486.45 1184.83,1469.18 \n",
       "  \"/>\n",
       "<polyline clip-path=\"url(#clip960)\" style=\"stroke:#000000; stroke-width:4; stroke-opacity:1; fill:none\" points=\"\n",
       "  1521.25,1486.45 1521.25,1469.18 \n",
       "  \"/>\n",
       "<polyline clip-path=\"url(#clip960)\" style=\"stroke:#000000; stroke-width:4; stroke-opacity:1; fill:none\" points=\"\n",
       "  1857.66,1486.45 1857.66,1469.18 \n",
       "  \"/>\n",
       "<polyline clip-path=\"url(#clip960)\" style=\"stroke:#000000; stroke-width:4; stroke-opacity:1; fill:none\" points=\"\n",
       "  2194.08,1486.45 2194.08,1469.18 \n",
       "  \"/>\n",
       "<polyline clip-path=\"url(#clip960)\" style=\"stroke:#000000; stroke-width:4; stroke-opacity:1; fill:none\" points=\"\n",
       "  112.177,1410.9 139.064,1410.9 \n",
       "  \"/>\n",
       "<polyline clip-path=\"url(#clip960)\" style=\"stroke:#000000; stroke-width:4; stroke-opacity:1; fill:none\" points=\"\n",
       "  112.177,1083.34 139.064,1083.34 \n",
       "  \"/>\n",
       "<polyline clip-path=\"url(#clip960)\" style=\"stroke:#000000; stroke-width:4; stroke-opacity:1; fill:none\" points=\"\n",
       "  112.177,755.791 139.064,755.791 \n",
       "  \"/>\n",
       "<polyline clip-path=\"url(#clip960)\" style=\"stroke:#000000; stroke-width:4; stroke-opacity:1; fill:none\" points=\"\n",
       "  112.177,428.237 139.064,428.237 \n",
       "  \"/>\n",
       "<polyline clip-path=\"url(#clip960)\" style=\"stroke:#000000; stroke-width:4; stroke-opacity:1; fill:none\" points=\"\n",
       "  112.177,100.684 139.064,100.684 \n",
       "  \"/>\n",
       "<path clip-path=\"url(#clip960)\" d=\"M 0 0 M175.59 1508.44 Q171.979 1508.44 170.15 1512 Q168.344 1515.55 168.344 1522.67 Q168.344 1529.78 170.15 1533.35 Q171.979 1536.89 175.59 1536.89 Q179.224 1536.89 181.03 1533.35 Q182.858 1529.78 182.858 1522.67 Q182.858 1515.55 181.03 1512 Q179.224 1508.44 175.59 1508.44 M175.59 1504.73 Q181.4 1504.73 184.455 1509.34 Q187.534 1513.92 187.534 1522.67 Q187.534 1531.4 184.455 1536.01 Q181.4 1540.59 175.59 1540.59 Q169.78 1540.59 166.701 1536.01 Q163.645 1531.4 163.645 1522.67 Q163.645 1513.92 166.701 1509.34 Q169.78 1504.73 175.59 1504.73 Z\" fill=\"#000000\" fill-rule=\"evenodd\" fill-opacity=\"1\" /><path clip-path=\"url(#clip960)\" d=\"M 0 0 M502.386 1535.98 L510.025 1535.98 L510.025 1509.62 L501.715 1511.29 L501.715 1507.03 L509.979 1505.36 L514.655 1505.36 L514.655 1535.98 L522.293 1535.98 L522.293 1539.92 L502.386 1539.92 L502.386 1535.98 Z\" fill=\"#000000\" fill-rule=\"evenodd\" fill-opacity=\"1\" /><path clip-path=\"url(#clip960)\" d=\"M 0 0 M843.071 1535.98 L859.391 1535.98 L859.391 1539.92 L837.446 1539.92 L837.446 1535.98 Q840.108 1533.23 844.692 1528.6 Q849.298 1523.95 850.479 1522.61 Q852.724 1520.08 853.604 1518.35 Q854.506 1516.59 854.506 1514.9 Q854.506 1512.14 852.562 1510.41 Q850.641 1508.67 847.539 1508.67 Q845.34 1508.67 842.886 1509.43 Q840.456 1510.2 837.678 1511.75 L837.678 1507.03 Q840.502 1505.89 842.955 1505.31 Q845.409 1504.73 847.446 1504.73 Q852.817 1504.73 856.011 1507.42 Q859.205 1510.11 859.205 1514.6 Q859.205 1516.73 858.395 1518.65 Q857.608 1520.54 855.502 1523.14 Q854.923 1523.81 851.821 1527.03 Q848.719 1530.22 843.071 1535.98 Z\" fill=\"#000000\" fill-rule=\"evenodd\" fill-opacity=\"1\" /><path clip-path=\"url(#clip960)\" d=\"M 0 0 M1189.08 1521.29 Q1192.44 1522 1194.31 1524.27 Q1196.21 1526.54 1196.21 1529.87 Q1196.21 1534.99 1192.69 1537.79 Q1189.17 1540.59 1182.69 1540.59 Q1180.52 1540.59 1178.2 1540.15 Q1175.91 1539.73 1173.46 1538.88 L1173.46 1534.36 Q1175.4 1535.5 1177.71 1536.08 Q1180.03 1536.66 1182.55 1536.66 Q1186.95 1536.66 1189.24 1534.92 Q1191.56 1533.18 1191.56 1529.87 Q1191.56 1526.82 1189.4 1525.11 Q1187.27 1523.37 1183.46 1523.37 L1179.43 1523.37 L1179.43 1519.53 L1183.64 1519.53 Q1187.09 1519.53 1188.92 1518.16 Q1190.75 1516.77 1190.75 1514.18 Q1190.75 1511.52 1188.85 1510.11 Q1186.97 1508.67 1183.46 1508.67 Q1181.53 1508.67 1179.34 1509.09 Q1177.14 1509.5 1174.5 1510.38 L1174.5 1506.22 Q1177.16 1505.48 1179.47 1505.11 Q1181.81 1504.73 1183.87 1504.73 Q1189.2 1504.73 1192.3 1507.17 Q1195.4 1509.57 1195.4 1513.69 Q1195.4 1516.56 1193.76 1518.55 Q1192.11 1520.52 1189.08 1521.29 Z\" fill=\"#000000\" fill-rule=\"evenodd\" fill-opacity=\"1\" /><path clip-path=\"url(#clip960)\" d=\"M 0 0 M1524.26 1509.43 L1512.45 1527.88 L1524.26 1527.88 L1524.26 1509.43 M1523.03 1505.36 L1528.91 1505.36 L1528.91 1527.88 L1533.84 1527.88 L1533.84 1531.77 L1528.91 1531.77 L1528.91 1539.92 L1524.26 1539.92 L1524.26 1531.77 L1508.65 1531.77 L1508.65 1527.26 L1523.03 1505.36 Z\" fill=\"#000000\" fill-rule=\"evenodd\" fill-opacity=\"1\" /><path clip-path=\"url(#clip960)\" d=\"M 0 0 M1847.94 1505.36 L1866.3 1505.36 L1866.3 1509.3 L1852.22 1509.3 L1852.22 1517.77 Q1853.24 1517.42 1854.26 1517.26 Q1855.28 1517.07 1856.3 1517.07 Q1862.08 1517.07 1865.46 1520.24 Q1868.84 1523.42 1868.84 1528.83 Q1868.84 1534.41 1865.37 1537.51 Q1861.9 1540.59 1855.58 1540.59 Q1853.4 1540.59 1851.13 1540.22 Q1848.89 1539.85 1846.48 1539.11 L1846.48 1534.41 Q1848.56 1535.54 1850.79 1536.1 Q1853.01 1536.66 1855.49 1536.66 Q1859.49 1536.66 1861.83 1534.55 Q1864.17 1532.44 1864.17 1528.83 Q1864.17 1525.22 1861.83 1523.11 Q1859.49 1521.01 1855.49 1521.01 Q1853.61 1521.01 1851.74 1521.42 Q1849.88 1521.84 1847.94 1522.72 L1847.94 1505.36 Z\" fill=\"#000000\" fill-rule=\"evenodd\" fill-opacity=\"1\" /><path clip-path=\"url(#clip960)\" d=\"M 0 0 M2194.48 1520.78 Q2191.33 1520.78 2189.48 1522.93 Q2187.65 1525.08 2187.65 1528.83 Q2187.65 1532.56 2189.48 1534.73 Q2191.33 1536.89 2194.48 1536.89 Q2197.63 1536.89 2199.46 1534.73 Q2201.31 1532.56 2201.31 1528.83 Q2201.31 1525.08 2199.46 1522.93 Q2197.63 1520.78 2194.48 1520.78 M2203.76 1506.12 L2203.76 1510.38 Q2202 1509.55 2200.2 1509.11 Q2198.42 1508.67 2196.66 1508.67 Q2192.03 1508.67 2189.57 1511.8 Q2187.14 1514.92 2186.8 1521.24 Q2188.16 1519.23 2190.22 1518.16 Q2192.28 1517.07 2194.76 1517.07 Q2199.97 1517.07 2202.98 1520.24 Q2206.01 1523.39 2206.01 1528.83 Q2206.01 1534.16 2202.86 1537.37 Q2199.71 1540.59 2194.48 1540.59 Q2188.49 1540.59 2185.31 1536.01 Q2182.14 1531.4 2182.14 1522.67 Q2182.14 1514.48 2186.03 1509.62 Q2189.92 1504.73 2196.47 1504.73 Q2198.23 1504.73 2200.01 1505.08 Q2201.82 1505.43 2203.76 1506.12 Z\" fill=\"#000000\" fill-rule=\"evenodd\" fill-opacity=\"1\" /><path clip-path=\"url(#clip960)\" d=\"M 0 0 M71.8578 1424.24 L88.1772 1424.24 L88.1772 1428.18 L66.2328 1428.18 L66.2328 1424.24 Q68.8949 1421.49 73.4782 1416.86 Q78.0846 1412.2 79.2652 1410.86 Q81.5105 1408.34 82.3902 1406.6 Q83.2929 1404.84 83.2929 1403.15 Q83.2929 1400.4 81.3485 1398.66 Q79.4272 1396.93 76.3254 1396.93 Q74.1263 1396.93 71.6726 1397.69 Q69.2421 1398.45 66.4643 1400.01 L66.4643 1395.28 Q69.2884 1394.15 71.7421 1393.57 Q74.1958 1392.99 76.2328 1392.99 Q81.6031 1392.99 84.7976 1395.68 Q87.992 1398.36 87.992 1402.85 Q87.992 1404.98 87.1818 1406.9 Q86.3948 1408.8 84.2883 1411.39 Q83.7096 1412.07 80.6078 1415.28 Q77.5059 1418.48 71.8578 1424.24 Z\" fill=\"#000000\" fill-rule=\"evenodd\" fill-opacity=\"1\" /><path clip-path=\"url(#clip960)\" d=\"M 0 0 M81.0476 1081.99 Q84.404 1082.71 86.279 1084.98 Q88.1772 1087.24 88.1772 1090.58 Q88.1772 1095.69 84.6587 1098.49 Q81.1402 1101.29 74.6587 1101.29 Q72.4828 1101.29 70.168 1100.86 Q67.8764 1100.44 65.4227 1099.58 L65.4227 1095.07 Q67.3671 1096.2 69.6819 1096.78 Q71.9967 1097.36 74.5198 1097.36 Q78.918 1097.36 81.2096 1095.62 Q83.5244 1093.89 83.5244 1090.58 Q83.5244 1087.52 81.3717 1085.81 Q79.242 1084.07 75.4226 1084.07 L71.3949 1084.07 L71.3949 1080.23 L75.6078 1080.23 Q79.0569 1080.23 80.8855 1078.86 Q82.7142 1077.48 82.7142 1074.88 Q82.7142 1072.22 80.8161 1070.81 Q78.9411 1069.37 75.4226 1069.37 Q73.5013 1069.37 71.3023 1069.79 Q69.1032 1070.21 66.4643 1071.09 L66.4643 1066.92 Q69.1264 1066.18 71.4412 1065.81 Q73.7791 1065.44 75.8393 1065.44 Q81.1633 1065.44 84.2652 1067.87 Q87.367 1070.28 87.367 1074.4 Q87.367 1077.27 85.7235 1079.26 Q84.08 1081.23 81.0476 1081.99 Z\" fill=\"#000000\" fill-rule=\"evenodd\" fill-opacity=\"1\" /><path clip-path=\"url(#clip960)\" d=\"M 0 0 M78.5939 742.585 L66.7884 761.034 L78.5939 761.034 L78.5939 742.585 M77.367 738.511 L83.2466 738.511 L83.2466 761.034 L88.1772 761.034 L88.1772 764.922 L83.2466 764.922 L83.2466 773.071 L78.5939 773.071 L78.5939 764.922 L62.9921 764.922 L62.9921 760.409 L77.367 738.511 Z\" fill=\"#000000\" fill-rule=\"evenodd\" fill-opacity=\"1\" /><path clip-path=\"url(#clip960)\" d=\"M 0 0 M67.2745 410.957 L85.6309 410.957 L85.6309 414.893 L71.5569 414.893 L71.5569 423.365 Q72.5754 423.018 73.5939 422.856 Q74.6124 422.67 75.6309 422.67 Q81.418 422.67 84.7976 425.842 Q88.1772 429.013 88.1772 434.43 Q88.1772 440.008 84.705 443.11 Q81.2328 446.189 74.9134 446.189 Q72.7374 446.189 70.4689 445.818 Q68.2236 445.448 65.8162 444.707 L65.8162 440.008 Q67.8995 441.142 70.1217 441.698 Q72.3439 442.254 74.8208 442.254 Q78.8254 442.254 81.1633 440.147 Q83.5013 438.041 83.5013 434.43 Q83.5013 430.818 81.1633 428.712 Q78.8254 426.606 74.8208 426.606 Q72.9458 426.606 71.0708 427.022 Q69.2189 427.439 67.2745 428.318 L67.2745 410.957 Z\" fill=\"#000000\" fill-rule=\"evenodd\" fill-opacity=\"1\" /><path clip-path=\"url(#clip960)\" d=\"M 0 0 M76.6495 98.821 Q73.5013 98.821 71.6495 100.974 Q69.8208 103.127 69.8208 106.876 Q69.8208 110.603 71.6495 112.779 Q73.5013 114.932 76.6495 114.932 Q79.7976 114.932 81.6263 112.779 Q83.4781 110.603 83.4781 106.876 Q83.4781 103.127 81.6263 100.974 Q79.7976 98.821 76.6495 98.821 M85.9318 84.1683 L85.9318 88.4275 Q84.1726 87.5942 82.367 87.1544 Q80.5846 86.7146 78.8254 86.7146 Q74.1958 86.7146 71.7421 89.8395 Q69.3115 92.9645 68.9643 99.2839 Q70.33 97.2701 72.3902 96.2052 Q74.4504 95.1173 76.9272 95.1173 Q82.1355 95.1173 85.1448 98.2886 Q88.1772 101.437 88.1772 106.876 Q88.1772 112.201 85.029 115.418 Q81.8809 118.636 76.6495 118.636 Q70.6541 118.636 67.4828 114.052 Q64.3116 109.446 64.3116 100.719 Q64.3116 92.5247 68.2004 87.6636 Q72.0893 82.7794 78.6402 82.7794 Q80.3994 82.7794 82.1818 83.1266 Q83.9874 83.4738 85.9318 84.1683 Z\" fill=\"#000000\" fill-rule=\"evenodd\" fill-opacity=\"1\" /><polyline clip-path=\"url(#clip962)\" style=\"stroke:#009af9; stroke-width:4; stroke-opacity:1; fill:none\" points=\"\n",
       "  175.59,1157.04 196.727,1142.76 217.865,1128.48 239.002,1114.2 260.14,1099.93 281.277,1085.65 302.415,1071.37 323.553,1057.09 344.69,1042.81 365.828,1028.54 \n",
       "  386.965,1014.26 408.103,999.981 429.24,985.703 450.378,971.425 471.515,957.147 492.653,942.869 513.79,928.591 534.928,914.313 556.065,900.035 577.203,885.757 \n",
       "  598.34,871.479 619.478,857.201 640.616,842.923 661.753,828.645 682.891,814.367 704.028,800.089 725.166,785.811 746.303,771.533 767.441,757.255 788.578,742.977 \n",
       "  809.716,728.699 830.853,714.421 851.991,700.143 873.128,685.865 894.266,671.587 915.404,657.309 936.541,643.031 957.679,628.753 978.816,614.475 999.954,600.197 \n",
       "  1021.09,585.919 1042.23,571.641 1063.37,557.363 1084.5,543.085 1105.64,528.807 1126.78,514.529 1147.92,500.251 1169.05,485.973 1190.19,471.695 1211.33,457.417 \n",
       "  1232.47,443.139 1253.6,428.861 1274.74,414.583 1295.88,400.306 1317.02,386.028 1338.15,371.75 1359.29,357.472 1380.43,343.195 1401.57,328.918 1422.7,314.643 \n",
       "  1443.84,300.372 1464.98,286.111 1486.12,271.872 1507.25,257.683 1528.39,243.608 1549.53,229.793 1570.67,216.566 1591.8,204.67 1612.94,195.765 1634.08,193.534 \n",
       "  1655.22,205.933 1676.35,249.233 1697.49,352.585 1718.63,552.18 1739.77,846.271 1760.9,1138.13 1782.04,1326.92 1803.18,1413.65 1824.32,1442.62 1845.46,1445.72 \n",
       "  1866.59,1438.25 1887.73,1426.63 1908.87,1413.38 1930.01,1399.51 1951.14,1385.39 1972.28,1371.17 1993.42,1356.91 2014.56,1342.65 2035.69,1328.37 2056.83,1314.1 \n",
       "  2077.97,1299.82 2099.11,1285.54 2120.24,1271.26 2141.38,1256.98 2162.52,1242.71 2183.66,1228.43 2204.79,1214.15 2225.93,1199.87 2247.07,1185.59 2268.21,1171.32 \n",
       "  2289.34,1157.04 \n",
       "  \"/>\n",
       "<polyline clip-path=\"url(#clip962)\" style=\"stroke:#e26f46; stroke-width:4; stroke-opacity:1; fill:none\" points=\"\n",
       "  175.59,1156.02 196.727,1141.73 217.865,1127.43 239.002,1113.14 260.14,1098.85 281.277,1084.55 302.415,1070.26 323.553,1055.96 344.69,1041.67 365.828,1027.38 \n",
       "  386.965,1013.08 408.103,998.788 429.24,984.494 450.378,970.2 471.515,955.906 492.653,941.612 513.79,927.318 534.928,913.024 556.065,898.73 577.203,884.436 \n",
       "  598.34,870.142 619.478,855.848 640.616,841.554 661.753,827.26 682.891,812.966 704.028,798.672 725.166,784.378 746.303,770.084 767.441,755.791 788.578,741.497 \n",
       "  809.716,727.203 830.853,712.909 851.991,698.615 873.128,684.321 894.266,670.027 915.404,655.733 936.541,641.439 957.679,627.145 978.816,612.851 999.954,598.557 \n",
       "  1021.09,584.263 1042.23,569.969 1063.37,555.675 1084.5,541.381 1105.64,527.087 1126.78,512.793 1147.92,498.499 1169.05,484.205 1190.19,469.911 1211.33,455.617 \n",
       "  1232.47,441.323 1253.6,427.03 1274.74,412.736 1295.88,398.442 1317.02,384.148 1338.15,369.854 1359.29,355.56 1380.43,341.266 1401.57,326.972 1422.7,312.678 \n",
       "  1443.84,298.384 1464.98,284.09 1486.12,269.796 1507.25,255.502 1528.39,241.208 1549.53,226.914 1570.67,212.62 1591.8,198.326 1612.94,184.032 1634.08,169.738 \n",
       "  1655.22,155.445 1676.35,141.152 1697.49,126.868 1718.63,112.642 1739.77,98.8344 1760.9,87.9763 1782.04,97.5718 1803.18,232.103 1824.32,755.791 1845.46,1279.48 \n",
       "  1866.59,1414.01 1887.73,1423.6 1908.87,1412.75 1930.01,1398.94 1951.14,1384.71 1972.28,1370.43 1993.42,1356.14 2014.56,1341.84 2035.69,1327.55 2056.83,1313.25 \n",
       "  2077.97,1298.96 2099.11,1284.67 2120.24,1270.37 2141.38,1256.08 2162.52,1241.79 2183.66,1227.49 2204.79,1213.2 2225.93,1198.9 2247.07,1184.61 2268.21,1170.32 \n",
       "  2289.34,1156.02 \n",
       "  \"/>\n",
       "<path clip-path=\"url(#clip960)\" d=\"\n",
       "M1989.74 312.204 L2280.76 312.204 L2280.76 130.764 L1989.74 130.764  Z\n",
       "  \" fill=\"#ffffff\" fill-rule=\"evenodd\" fill-opacity=\"1\"/>\n",
       "<polyline clip-path=\"url(#clip960)\" style=\"stroke:#000000; stroke-width:4; stroke-opacity:1; fill:none\" points=\"\n",
       "  1989.74,312.204 2280.76,312.204 2280.76,130.764 1989.74,130.764 1989.74,312.204 \n",
       "  \"/>\n",
       "<polyline clip-path=\"url(#clip960)\" style=\"stroke:#009af9; stroke-width:4; stroke-opacity:1; fill:none\" points=\"\n",
       "  2013.74,191.244 2157.74,191.244 \n",
       "  \"/>\n",
       "<path clip-path=\"url(#clip960)\" d=\"M 0 0 M2195.58 210.931 Q2193.77 215.561 2192.06 216.973 Q2190.35 218.385 2187.48 218.385 L2184.08 218.385 L2184.08 214.82 L2186.58 214.82 Q2188.33 214.82 2189.31 213.987 Q2190.28 213.154 2191.46 210.052 L2192.22 208.107 L2181.74 182.598 L2186.25 182.598 L2194.35 202.876 L2202.46 182.598 L2206.97 182.598 L2195.58 210.931 Z\" fill=\"#000000\" fill-rule=\"evenodd\" fill-opacity=\"1\" /><path clip-path=\"url(#clip960)\" d=\"M 0 0 M2212.85 204.589 L2220.49 204.589 L2220.49 178.223 L2212.18 179.89 L2212.18 175.631 L2220.44 173.964 L2225.12 173.964 L2225.12 204.589 L2232.76 204.589 L2232.76 208.524 L2212.85 208.524 L2212.85 204.589 Z\" fill=\"#000000\" fill-rule=\"evenodd\" fill-opacity=\"1\" /><polyline clip-path=\"url(#clip960)\" style=\"stroke:#e26f46; stroke-width:4; stroke-opacity:1; fill:none\" points=\"\n",
       "  2013.74,251.724 2157.74,251.724 \n",
       "  \"/>\n",
       "<path clip-path=\"url(#clip960)\" d=\"M 0 0 M2195.58 271.411 Q2193.77 276.041 2192.06 277.453 Q2190.35 278.865 2187.48 278.865 L2184.08 278.865 L2184.08 275.3 L2186.58 275.3 Q2188.33 275.3 2189.31 274.467 Q2190.28 273.634 2191.46 270.532 L2192.22 268.587 L2181.74 243.078 L2186.25 243.078 L2194.35 263.356 L2202.46 243.078 L2206.97 243.078 L2195.58 271.411 Z\" fill=\"#000000\" fill-rule=\"evenodd\" fill-opacity=\"1\" /><path clip-path=\"url(#clip960)\" d=\"M 0 0 M2216.07 265.069 L2232.39 265.069 L2232.39 269.004 L2210.44 269.004 L2210.44 265.069 Q2213.1 262.314 2217.69 257.685 Q2222.29 253.032 2223.47 251.689 Q2225.72 249.166 2226.6 247.43 Q2227.5 245.671 2227.5 243.981 Q2227.5 241.226 2225.56 239.49 Q2223.64 237.754 2220.53 237.754 Q2218.33 237.754 2215.88 238.518 Q2213.45 239.282 2210.67 240.833 L2210.67 236.111 Q2213.5 234.976 2215.95 234.398 Q2218.4 233.819 2220.44 233.819 Q2225.81 233.819 2229.01 236.504 Q2232.2 239.189 2232.2 243.68 Q2232.2 245.81 2231.39 247.731 Q2230.6 249.629 2228.5 252.222 Q2227.92 252.893 2224.82 256.111 Q2221.71 259.305 2216.07 265.069 Z\" fill=\"#000000\" fill-rule=\"evenodd\" fill-opacity=\"1\" /></svg>\n"
      ]
     },
     "execution_count": 80,
     "metadata": {},
     "output_type": "execute_result"
    }
   ],
   "source": [
    "plot(x,u_numerical)\n",
    "plot!(x,u_analytical)"
   ]
  },
  {
   "cell_type": "markdown",
   "metadata": {},
   "source": [
    "***\n",
    "\n",
    "What next?\n",
    "----\n",
    "\n",
    "The subsequent steps, from 5 to 12, will be in two dimensions. But it is easy to extend the 1D finite-difference formulas to the partial derivatives in 2D or 3D. Just apply the definition — a partial derivative with respect to $x$ is the variation in the $x$ direction *while keeping $y$ constant*.\n",
    "\n",
    "Before moving on to [Step 5](./07_Step_5.ipynb), make sure you have completed your own code for steps 1 through 4 and you have experimented with the parameters and thought about what is happening. Also, we recommend that you take a slight break to learn about [array operations with Julia](./06_Array_Operations_with_Julia.ipynb)."
   ]
  }
 ],
 "metadata": {
  "kernelspec": {
   "display_name": "Julia 1.5.0",
   "language": "julia",
   "name": "julia-1.5"
  },
  "language_info": {
   "file_extension": ".jl",
   "mimetype": "application/julia",
   "name": "julia",
   "version": "1.5.0"
  }
 },
 "nbformat": 4,
 "nbformat_minor": 4
}
