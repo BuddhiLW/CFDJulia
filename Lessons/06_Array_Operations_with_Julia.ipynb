{
 "cells": [
  {
   "cell_type": "raw",
   "metadata": {},
   "source": [
    "Text provided under a Creative Commons Attribution license, CC-BY.  All code is made available under the FSF-approved BSD-3 license.  (c) Lorena A. Barba, Gilbert F. Forsyth 2017. Thanks to NSF for support via CAREER award #1149784."
   ]
  },
  {
   "cell_type": "markdown",
   "metadata": {},
   "source": [
    "12 steps to Navier–Stokes\n",
    "=====\n",
    "***"
   ]
  },
  {
   "cell_type": "markdown",
   "metadata": {},
   "source": [
    "This lesson complements the first interactive module of the online [CFD Python](https://github.com/barbagroup/CFDPython) class, by Prof. Lorena A. Barba, called **12 Steps to Navier–Stokes.** It was written with BU graduate student Gilbert Forsyth. It has subsequently been adapted to complement [CFDJulia](https://github.com/cysor/CFDJulia)."
   ]
  },
  {
   "cell_type": "markdown",
   "metadata": {},
   "source": [
    "Array Operations with Julia\n",
    "----------------\n",
    "\n",
    "In languages such as Python, libraries like Numpy are used to handle computationaly intesive matrix operations. Numpy can increase execution speed many-times over.\n",
    "\n",
    "In Julia, this is not the case. Computationaly intesive matrix operations can be performed natively within Julia. \n",
    "\n",
    "As a simple example, consider the following equation:\n",
    "\n",
    "$$u^{n+1}_i = u^n_i-u^n_{i-1}$$\n",
    "\n",
    "Now, given a vector $u^n = [0, 1, 2, 3, 4, 5]\\ \\ $   we can calculate the values of $u^{n+1}$ by iterating over the values of $u^n$ with a for loop.  "
   ]
  },
  {
   "cell_type": "code",
   "execution_count": 2,
   "metadata": {},
   "outputs": [
    {
     "name": "stdout",
     "output_type": "stream",
     "text": [
      "1\n",
      "1\n",
      "1\n",
      "1\n",
      "1\n"
     ]
    }
   ],
   "source": [
    "u = [0, 1, 2, 3, 4, 5]\n",
    "\n",
    "for i in 2:length(u)\n",
    "    println(u[i] - u[i-1])\n",
    "end"
   ]
  },
  {
   "cell_type": "markdown",
   "metadata": {},
   "source": [
    "This is the expected result and the execution time was nearly instantaneous.  If we perform the same operation as an array operation, then rather than calculate $u^n_i-u^n_{i-1}\\ $ 5 separate times, we can slice the $u$ array and calculate each operation with one command:"
   ]
  },
  {
   "cell_type": "code",
   "execution_count": 3,
   "metadata": {},
   "outputs": [
    {
     "data": {
      "text/plain": [
       "5-element Array{Int64,1}:\n",
       " 1\n",
       " 1\n",
       " 1\n",
       " 1\n",
       " 1"
      ]
     },
     "execution_count": 3,
     "metadata": {},
     "output_type": "execute_result"
    }
   ],
   "source": [
    "u[2:end] - u[1:end-1]"
   ]
  },
  {
   "cell_type": "markdown",
   "metadata": {},
   "source": [
    "What this command says is subtract the 1st, 2nd, 3rd, 4th and 5th elements of $u$ from the 2nd, 3rd, 4th, 5th and 6th elements of $u$.\n",
    "\n",
    "### Speed Differences\n",
    "\n",
    "For a 6 element array, the differences between the for loop and array operation are pretty slim. There will be no appreciable difference in execution time because there are so few operations taking place. But if we revisit 2D linear convection, we can see some substantial speed differences.\n"
   ]
  },
  {
   "cell_type": "code",
   "execution_count": 16,
   "metadata": {},
   "outputs": [
    {
     "data": {
      "text/plain": [
       "21×21 view(::Array{Float64,2}, [21, 22, 23, 24, 25, 26, 27, 28, 29, 30  …  32, 33, 34, 35, 36, 37, 38, 39, 40, 41], [21, 22, 23, 24, 25, 26, 27, 28, 29, 30  …  32, 33, 34, 35, 36, 37, 38, 39, 40, 41]) with eltype Float64:\n",
       " 2.0  2.0  2.0  2.0  2.0  2.0  2.0  2.0  …  2.0  2.0  2.0  2.0  2.0  2.0  2.0\n",
       " 2.0  2.0  2.0  2.0  2.0  2.0  2.0  2.0     2.0  2.0  2.0  2.0  2.0  2.0  2.0\n",
       " 2.0  2.0  2.0  2.0  2.0  2.0  2.0  2.0     2.0  2.0  2.0  2.0  2.0  2.0  2.0\n",
       " 2.0  2.0  2.0  2.0  2.0  2.0  2.0  2.0     2.0  2.0  2.0  2.0  2.0  2.0  2.0\n",
       " 2.0  2.0  2.0  2.0  2.0  2.0  2.0  2.0     2.0  2.0  2.0  2.0  2.0  2.0  2.0\n",
       " 2.0  2.0  2.0  2.0  2.0  2.0  2.0  2.0  …  2.0  2.0  2.0  2.0  2.0  2.0  2.0\n",
       " 2.0  2.0  2.0  2.0  2.0  2.0  2.0  2.0     2.0  2.0  2.0  2.0  2.0  2.0  2.0\n",
       " 2.0  2.0  2.0  2.0  2.0  2.0  2.0  2.0     2.0  2.0  2.0  2.0  2.0  2.0  2.0\n",
       " 2.0  2.0  2.0  2.0  2.0  2.0  2.0  2.0     2.0  2.0  2.0  2.0  2.0  2.0  2.0\n",
       " 2.0  2.0  2.0  2.0  2.0  2.0  2.0  2.0     2.0  2.0  2.0  2.0  2.0  2.0  2.0\n",
       " 2.0  2.0  2.0  2.0  2.0  2.0  2.0  2.0  …  2.0  2.0  2.0  2.0  2.0  2.0  2.0\n",
       " 2.0  2.0  2.0  2.0  2.0  2.0  2.0  2.0     2.0  2.0  2.0  2.0  2.0  2.0  2.0\n",
       " 2.0  2.0  2.0  2.0  2.0  2.0  2.0  2.0     2.0  2.0  2.0  2.0  2.0  2.0  2.0\n",
       " 2.0  2.0  2.0  2.0  2.0  2.0  2.0  2.0     2.0  2.0  2.0  2.0  2.0  2.0  2.0\n",
       " 2.0  2.0  2.0  2.0  2.0  2.0  2.0  2.0     2.0  2.0  2.0  2.0  2.0  2.0  2.0\n",
       " 2.0  2.0  2.0  2.0  2.0  2.0  2.0  2.0  …  2.0  2.0  2.0  2.0  2.0  2.0  2.0\n",
       " 2.0  2.0  2.0  2.0  2.0  2.0  2.0  2.0     2.0  2.0  2.0  2.0  2.0  2.0  2.0\n",
       " 2.0  2.0  2.0  2.0  2.0  2.0  2.0  2.0     2.0  2.0  2.0  2.0  2.0  2.0  2.0\n",
       " 2.0  2.0  2.0  2.0  2.0  2.0  2.0  2.0     2.0  2.0  2.0  2.0  2.0  2.0  2.0\n",
       " 2.0  2.0  2.0  2.0  2.0  2.0  2.0  2.0     2.0  2.0  2.0  2.0  2.0  2.0  2.0\n",
       " 2.0  2.0  2.0  2.0  2.0  2.0  2.0  2.0  …  2.0  2.0  2.0  2.0  2.0  2.0  2.0"
      ]
     },
     "execution_count": 16,
     "metadata": {},
     "output_type": "execute_result"
    }
   ],
   "source": [
    "nx = 81\n",
    "ny = 81\n",
    "nt = 100\n",
    "c = 1\n",
    "dx = 2 / (nx - 1)\n",
    "dy = 2 / (ny - 1)\n",
    "sigma = 0.2\n",
    "dt = sigma * dx\n",
    "\n",
    "x = range(0, stop=2, length=nx)\n",
    "y = range(0, stop=2, length=ny)\n",
    "\n",
    "u = ones(ny, nx) ##create a 1xn vector of 1's\n",
    "uₙ = ones(ny, nx) \n",
    "\n",
    "###Assign initial conditions\n",
    "u[ 0.5 .≤ y .≤ 1 , 0.5 .≤ x .≤ 1] .= 2"
   ]
  },
  {
   "cell_type": "markdown",
   "metadata": {},
   "source": [
    "With our initial conditions all set up, let's first try running our original nested loop code, making use of BenchmarkTools.jl, which will help us evaluate the performance of our code. \n",
    "\n",
    "**Note**: The `@benchmark` macro provided by BenchmarkTools.jl will run the code several times and then give  min, max and mean execution times, along with estimatied memory consumption. The code that we want to benchmark must be placed inside a function and the variables required by the function should be included in the function definition or passed as parameters.\n",
    "\n",
    "The execution times below will vary from machine to machine.  Don't expect your times to match these times, but you _should_ expect to see the same general trend in decreasing execution time as we switch to array operations."
   ]
  },
  {
   "cell_type": "code",
   "execution_count": 18,
   "metadata": {},
   "outputs": [],
   "source": [
    "using BenchmarkTools"
   ]
  },
  {
   "cell_type": "code",
   "execution_count": 17,
   "metadata": {},
   "outputs": [
    {
     "data": {
      "text/plain": [
       "BenchmarkTools.Trial: \n",
       "  memory estimate:  5.12 MiB\n",
       "  allocs estimate:  217\n",
       "  --------------\n",
       "  minimum time:     3.724 ms (0.00% GC)\n",
       "  median time:      9.950 ms (0.00% GC)\n",
       "  mean time:        9.642 ms (7.07% GC)\n",
       "  maximum time:     25.235 ms (44.95% GC)\n",
       "  --------------\n",
       "  samples:          518\n",
       "  evals/sample:     1"
      ]
     },
     "execution_count": 17,
     "metadata": {},
     "output_type": "execute_result"
    }
   ],
   "source": [
    "function ForLoopMethod()\n",
    "    nx = 81\n",
    "    ny = 81\n",
    "    nt = 100\n",
    "    c  = 1\n",
    "    Δx = 2 / (nx - 1)\n",
    "    Δy = 2 / (ny - 1)\n",
    "    σ  = 0.2\n",
    "    Δt = σ * Δx\n",
    "\n",
    "    x = range(0, stop=2, length=nx)\n",
    "    y = range(0, stop=2, length=ny)\n",
    "\n",
    "    u = ones(ny, nx) ##create a 1xn vector of 1's\n",
    "\n",
    "    u[0.5 .≤ y .≤ 1 , 0.5 .≤ x .≤ 1] .= 2\n",
    "\n",
    "    uⁿ⁺¹ = u # uⁿ⁺¹ points to the values stored by u, i.e it provides a new name to refer to u with\n",
    "    \n",
    "    for n in 1:nt + 1 ##loop across number of time steps\n",
    "        uⁿ = copy(uⁿ⁺¹)\n",
    "        row, col = size(uⁿ⁺¹)\n",
    "        for j ∈ 1:row\n",
    "            for i ∈ 1:col\n",
    "                # Implement boundary conditions using conditional (if/else) statements\n",
    "                if j == 1\n",
    "                    uⁿ⁺¹[j,i] = 1.0\n",
    "                elseif j == row\n",
    "                    uⁿ⁺¹[j,i] = 1.0\n",
    "                elseif i == col\n",
    "                    uⁿ⁺¹[j,i] = 1.0\n",
    "                elseif i == 1\n",
    "                    uⁿ⁺¹[j,i] = 1.0\n",
    "                else\n",
    "                    uⁿ⁺¹[j,i] = (uⁿ[j, i] - \n",
    "                                (c * Δt / Δx * (uⁿ[j, i] - uⁿ[j, i - 1])) - \n",
    "                                (c * Δt / Δy * (uⁿ[j, i] - uⁿ[j - 1, i])))\n",
    "                end\n",
    "            end\n",
    "        end\n",
    "    end\n",
    "    return uⁿ⁺¹\n",
    "end\n",
    "@benchmark ForLoopMethod()"
   ]
  },
  {
   "cell_type": "markdown",
   "metadata": {},
   "source": [
    "With the for loop implementation above, the mean execution time achieved was 9.6 milli seconds (on an i7-7700HQ). Memory usage was 5.12 MiB and total memory allocations was 217. For all these metrics lower is better. Let's compare that with the performance of the same code implemented with array operations:"
   ]
  },
  {
   "cell_type": "code",
   "execution_count": 21,
   "metadata": {},
   "outputs": [
    {
     "data": {
      "text/plain": [
       "BenchmarkTools.Trial: \n",
       "  memory estimate:  59.45 MiB\n",
       "  allocs estimate:  2439\n",
       "  --------------\n",
       "  minimum time:     15.693 ms (16.34% GC)\n",
       "  median time:      39.639 ms (17.17% GC)\n",
       "  mean time:        39.903 ms (17.11% GC)\n",
       "  maximum time:     119.139 ms (22.50% GC)\n",
       "  --------------\n",
       "  samples:          126\n",
       "  evals/sample:     1"
      ]
     },
     "execution_count": 21,
     "metadata": {},
     "output_type": "execute_result"
    }
   ],
   "source": [
    "function MatrixMethod()\n",
    "    nx = 81\n",
    "    ny = 81\n",
    "    nt = 100\n",
    "    c  = 1\n",
    "    Δx = 2 / (nx - 1)\n",
    "    Δy = 2 / (ny - 1)\n",
    "    σ  = 0.2\n",
    "    Δt = σ * Δx\n",
    "\n",
    "    x = range(0, stop=2, length=nx)\n",
    "    y = range(0, stop=2, length=ny)\n",
    "\n",
    "    u = ones(ny, nx) ##create a 1xn vector of 1's\n",
    "\n",
    "    u[0.5 .≤ y .≤ 1 , 0.5 .≤ x .≤ 1] .= 2\n",
    "\n",
    "    uⁿ⁺¹ = u # uⁿ⁺¹ points to the values stored by u, i.e it provides a new name to refer to u with\n",
    "    \n",
    "    for n in 1:nt + 1 ##loop across number of time steps\n",
    "        uⁿ = copy(uⁿ⁺¹)\n",
    "        \n",
    "        u[2:end, 2:end] = (uⁿ[2:end, 2:end] - (c * Δt / Δx * (uⁿ[2:end, 2:end] - uⁿ[2:end, 1:end-1])) - \n",
    "                                    (c * Δt / Δy * (uⁿ[2:end, 2:end] - uⁿ[1:end-1, 2:end])))\n",
    "        u[1, :]   .= 1 # Dot broadcasting is used to set each value in the matrix slice equall to 1.\n",
    "        u[end, :] .= 1 # This syntax should be familar for people who have used MATLAB. \n",
    "        u[:, 1]   .= 1\n",
    "        u[:, end] .= 1\n",
    "    end\n",
    "    return u\n",
    "end\n",
    "@benchmark MatrixMethod()"
   ]
  },
  {
   "cell_type": "markdown",
   "metadata": {},
   "source": [
    "As you can see, the speed decrease and memory usage increase is substantial. The same calculation goes from 9.6 milliseconds to 40 milliseconds. Similiarly memory allocations and total memory usage increase significantly, from 5.12 MiB, 217 allocations to 59.45MiB, 2439 allocation. \n",
    "\n",
    "Although the absolute memory usage and execution time are low these speed gains will increase exponentially with the size and complexity of the problem being evaluated. Try running the benchmarks again with nx and ny equall to 1001 and nt = 1000, note this may take a long time to run depending on your hardware.\n",
    "\n",
    "This behaviour in julia is unlike languages such as MATLAB where vectorised/array operations are faster than for loop iteration. MATLAB is able to do this due to a series of optimisations. The use of for loops to perform matrix operations and if/else statements to implement boundary conditions are a much better implementation from a computer science persepective. The Julia documentation provides a comprehensive list of [performance tips](https://docs.julialang.org/en/v1/manual/performance-tips/index.html) that can help improve the performance of Julia programs."
   ]
  }
 ],
 "metadata": {
  "kernelspec": {
   "display_name": "Julia 1.4.1",
   "language": "julia",
   "name": "julia-1.4"
  },
  "language_info": {
   "file_extension": ".jl",
   "mimetype": "application/julia",
   "name": "julia",
   "version": "1.4.1"
  }
 },
 "nbformat": 4,
 "nbformat_minor": 4
}
